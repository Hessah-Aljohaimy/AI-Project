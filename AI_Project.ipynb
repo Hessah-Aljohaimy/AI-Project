{
 "cells": [
  {
   "attachments": {},
   "cell_type": "markdown",
   "metadata": {},
   "source": [
    "# AI Project for SWE 485 | G3 | Water Quality\n",
    "Student Name : Khawlah Alnayel | Student ID : 441200943 \n",
    "\n",
    "Student Name : Sarah Alomar  | Student ID : 441200917 \n",
    "\n",
    " Student Name : Hessah Aljohaimy  | Student ID : 441201152"
   ]
  },
  {
   "attachments": {},
   "cell_type": "markdown",
   "metadata": {},
   "source": [
    "# Introducation\n",
    " Every human being needs clean water for intake. The World Health Organization (WHO) estimates that 80% of illnesses are water-borne. Industrialization, discharge of internal waste, radioactive waste, population growth, unnecessary use of pesticides, fertilizers and leakage from water tanks are key sources of water effluence. In Addition, there are negative health effects associated with these wastes. Different chemicals have dissimilar affects depending on their positions and categories. Bacterial, viral and parasitic diseases like typhoid, cholera, encephalitis, poliomyelitis, hepatitis, skin infection and gastrointestinal disease are spreading through polluted water [1]. \n",
    "\n",
    "Therefore, it is recommended to examine the water quality on a regular basis to avoid its destructive effects on human health. As a matter of fact, the availability of safe drinking water is one of the most vital components of effective health protection policy and constitutes a fundamental human right. This is important as a health and development issue at a national, regional and local level. In some regions, it has been shown that investments in water supply and sanitation can yield a net economic benefit, since the reductions in adverse health effects and health care costs outweigh the costs of undertaking the interventions [2]. \n",
    "\n",
    "Our aim to predict the quality of water from 3272 different water bodies where we have the pH value ,Hardness , Solids , Chloramines , Sulfate , Conductivity , Organic carbon , Trihalomethanes , Turbidity all in different values then we have the probability to indicate whether the water is safe or not and to understand the relationship between these different values and the quality of water .Our class label will be the pobability that indicates weather the water is safe or not. \n",
    "\n",
    "[1]mportance of safe drinking water for human life - researchgate (no date). Available at: https://www.researchgate.net/publication/341539508_Importance_of_Safe_Drinking_Water_for_Human_Life (Accessed: April 23, 2023).\n",
    " \n",
    "[2]Kadiwal, A. (2021) Water quality, Kaggle. Available at: https://www.kaggle.com/datasets/adityakadiwal/water-potability (Accessed: April 23, 2023). "
   ]
  },
  {
   "cell_type": "code",
   "execution_count": 85,
   "metadata": {},
   "outputs": [],
   "source": [
    "#Importing Important Libraries\n",
    "import pandas as pd\n",
    "import matplotlib.pyplot as plt\n",
    "import numpy as np\n",
    "from statistics import mean \n",
    "from pandas.core.arrays.categorical import contains\n",
    "import statistics\n",
    "import seaborn as sns\n",
    "import warnings #to remove the warnings\n",
    "warnings.filterwarnings('ignore')\n"
   ]
  },
  {
   "attachments": {},
   "cell_type": "markdown",
   "metadata": {},
   "source": [
    "# Data \n",
    "Our dataset is called Water quality, we take it from Kaggle website. The dataset provide information about factors that affect the quality of water if it is safe for human. The link (https://www.kaggle.com/datasets/adityakadiwal/water-potability) show the source data. It consist of 3276 row and each of which have 10 attributes.\n",
    "\n",
    "Column description and type:\n",
    "\n",
    "1. ph: pH of 1. water (0 to 14). Type : Numeric\n",
    "2. Hardness: Capacity of water to precipitate soap in mg/L. Type : Numeric\n",
    "3. Solids: Total dissolved solids in ppm. Type : Numeric\n",
    "4. Chloramines: Amount of Chloramines in ppm. Type : Numeric\n",
    "5. Sulfate: Amount of Sulfates dissolved in mg/L. Type : Numeric\n",
    "6. Conductivity: Electrical conductivity of water in μS/cm. Type : Numeric\n",
    "7. Organic_carbon: Amount of organic carbon in ppm. Type : Numeric\n",
    "8. Trihalomethanes: Amount of Trihalomethanes in μg/L. Type : Numeric\n",
    "9. Turbidity: Measure of light emiting property of water in NTU. Type : Numeric\n",
    "10. Potability: Our dataset classified based on Potability which indicates if water is safe for human consumption where 1 means Potable and 0 means Not potable.. Potable 1 and Not potable 0. Type : Numeric\n",
    "\n"
   ]
  },
  {
   "cell_type": "code",
   "execution_count": 86,
   "metadata": {},
   "outputs": [],
   "source": [
    "iris =pd.read_csv('Dataset/water_potability.csv')\n"
   ]
  },
  {
   "cell_type": "code",
   "execution_count": 87,
   "metadata": {},
   "outputs": [
    {
     "data": {
      "text/html": [
       "<div>\n",
       "<style scoped>\n",
       "    .dataframe tbody tr th:only-of-type {\n",
       "        vertical-align: middle;\n",
       "    }\n",
       "\n",
       "    .dataframe tbody tr th {\n",
       "        vertical-align: top;\n",
       "    }\n",
       "\n",
       "    .dataframe thead th {\n",
       "        text-align: right;\n",
       "    }\n",
       "</style>\n",
       "<table border=\"1\" class=\"dataframe\">\n",
       "  <thead>\n",
       "    <tr style=\"text-align: right;\">\n",
       "      <th></th>\n",
       "      <th>ph</th>\n",
       "      <th>Hardness</th>\n",
       "      <th>Solids</th>\n",
       "      <th>Chloramines</th>\n",
       "      <th>Sulfate</th>\n",
       "      <th>Conductivity</th>\n",
       "      <th>Organic_carbon</th>\n",
       "      <th>Trihalomethanes</th>\n",
       "      <th>Turbidity</th>\n",
       "      <th>Potability</th>\n",
       "    </tr>\n",
       "  </thead>\n",
       "  <tbody>\n",
       "    <tr>\n",
       "      <th>0</th>\n",
       "      <td>NaN</td>\n",
       "      <td>204.890455</td>\n",
       "      <td>20791.318981</td>\n",
       "      <td>7.300212</td>\n",
       "      <td>368.516441</td>\n",
       "      <td>564.308654</td>\n",
       "      <td>10.379783</td>\n",
       "      <td>86.990970</td>\n",
       "      <td>2.963135</td>\n",
       "      <td>0</td>\n",
       "    </tr>\n",
       "    <tr>\n",
       "      <th>1</th>\n",
       "      <td>3.716080</td>\n",
       "      <td>129.422921</td>\n",
       "      <td>18630.057858</td>\n",
       "      <td>6.635246</td>\n",
       "      <td>NaN</td>\n",
       "      <td>592.885359</td>\n",
       "      <td>15.180013</td>\n",
       "      <td>56.329076</td>\n",
       "      <td>4.500656</td>\n",
       "      <td>0</td>\n",
       "    </tr>\n",
       "    <tr>\n",
       "      <th>2</th>\n",
       "      <td>8.099124</td>\n",
       "      <td>224.236259</td>\n",
       "      <td>19909.541732</td>\n",
       "      <td>9.275884</td>\n",
       "      <td>NaN</td>\n",
       "      <td>418.606213</td>\n",
       "      <td>16.868637</td>\n",
       "      <td>66.420093</td>\n",
       "      <td>3.055934</td>\n",
       "      <td>0</td>\n",
       "    </tr>\n",
       "    <tr>\n",
       "      <th>3</th>\n",
       "      <td>8.316766</td>\n",
       "      <td>214.373394</td>\n",
       "      <td>22018.417441</td>\n",
       "      <td>8.059332</td>\n",
       "      <td>356.886136</td>\n",
       "      <td>363.266516</td>\n",
       "      <td>18.436524</td>\n",
       "      <td>100.341674</td>\n",
       "      <td>4.628771</td>\n",
       "      <td>0</td>\n",
       "    </tr>\n",
       "    <tr>\n",
       "      <th>4</th>\n",
       "      <td>9.092223</td>\n",
       "      <td>181.101509</td>\n",
       "      <td>17978.986339</td>\n",
       "      <td>6.546600</td>\n",
       "      <td>310.135738</td>\n",
       "      <td>398.410813</td>\n",
       "      <td>11.558279</td>\n",
       "      <td>31.997993</td>\n",
       "      <td>4.075075</td>\n",
       "      <td>0</td>\n",
       "    </tr>\n",
       "  </tbody>\n",
       "</table>\n",
       "</div>"
      ],
      "text/plain": [
       "         ph    Hardness        Solids  Chloramines     Sulfate  Conductivity  \\\n",
       "0       NaN  204.890455  20791.318981     7.300212  368.516441    564.308654   \n",
       "1  3.716080  129.422921  18630.057858     6.635246         NaN    592.885359   \n",
       "2  8.099124  224.236259  19909.541732     9.275884         NaN    418.606213   \n",
       "3  8.316766  214.373394  22018.417441     8.059332  356.886136    363.266516   \n",
       "4  9.092223  181.101509  17978.986339     6.546600  310.135738    398.410813   \n",
       "\n",
       "   Organic_carbon  Trihalomethanes  Turbidity  Potability  \n",
       "0       10.379783        86.990970   2.963135           0  \n",
       "1       15.180013        56.329076   4.500656           0  \n",
       "2       16.868637        66.420093   3.055934           0  \n",
       "3       18.436524       100.341674   4.628771           0  \n",
       "4       11.558279        31.997993   4.075075           0  "
      ]
     },
     "execution_count": 87,
     "metadata": {},
     "output_type": "execute_result"
    }
   ],
   "source": [
    "# samples of raw dataset\n",
    "iris.head()"
   ]
  },
  {
   "cell_type": "code",
   "execution_count": 88,
   "metadata": {},
   "outputs": [
    {
     "name": "stdout",
     "output_type": "stream",
     "text": [
      "3.716080    1\n",
      "6.704432    1\n",
      "5.915807    1\n",
      "8.136498    1\n",
      "6.493764    1\n",
      "           ..\n",
      "7.808012    1\n",
      "5.895949    1\n",
      "7.269652    1\n",
      "9.489601    1\n",
      "7.874671    1\n",
      "Name: ph, Length: 2785, dtype: int64\n",
      "204.890455    1\n",
      "134.560276    1\n",
      "170.190912    1\n",
      "237.461099    1\n",
      "171.238926    1\n",
      "             ..\n",
      "218.237186    1\n",
      "208.374188    1\n",
      "142.145566    1\n",
      "179.799917    1\n",
      "195.102299    1\n",
      "Name: Hardness, Length: 3276, dtype: int64\n",
      "20791.318981    1\n",
      "15979.334793    1\n",
      "37000.955674    1\n",
      "18736.190902    1\n",
      "12289.900922    1\n",
      "               ..\n",
      "22824.699465    1\n",
      "21809.709834    1\n",
      "45141.686036    1\n",
      "17037.725367    1\n",
      "17404.177061    1\n",
      "Name: Solids, Length: 3276, dtype: int64\n",
      "7.300212     1\n",
      "9.504361     1\n",
      "6.217223     1\n",
      "5.599870     1\n",
      "10.786500    1\n",
      "            ..\n",
      "8.696479     1\n",
      "5.846112     1\n",
      "6.030640     1\n",
      "6.378364     1\n",
      "7.509306     1\n",
      "Name: Chloramines, Length: 3276, dtype: int64\n",
      "368.516441    1\n",
      "301.230848    1\n",
      "391.918229    1\n",
      "330.905370    1\n",
      "402.313427    1\n",
      "             ..\n",
      "359.710517    1\n",
      "389.219586    1\n",
      "337.231469    1\n",
      "396.091917    1\n",
      "359.948574    1\n",
      "Name: Sulfate, Length: 2495, dtype: int64\n",
      "564.308654    1\n",
      "418.642063    1\n",
      "517.576762    1\n",
      "235.042283    1\n",
      "501.559725    1\n",
      "             ..\n",
      "521.016261    1\n",
      "264.508083    1\n",
      "369.280429    1\n",
      "590.060546    1\n",
      "327.459760    1\n",
      "Name: Conductivity, Length: 3276, dtype: int64\n",
      "10.379783    1\n",
      "12.897635    1\n",
      "15.871770    1\n",
      "11.545477    1\n",
      "12.284334    1\n",
      "            ..\n",
      "15.310631    1\n",
      "11.235144    1\n",
      "20.605552    1\n",
      "12.092499    1\n",
      "16.140368    1\n",
      "Name: Organic_carbon, Length: 3276, dtype: int64\n",
      "86.990970    1\n",
      "84.798956    1\n",
      "54.473935    1\n",
      "77.730814    1\n",
      "90.394895    1\n",
      "            ..\n",
      "73.723070    1\n",
      "46.682597    1\n",
      "70.168389    1\n",
      "81.592362    1\n",
      "78.698446    1\n",
      "Name: Trihalomethanes, Length: 3114, dtype: int64\n",
      "2.963135    1\n",
      "3.987012    1\n",
      "4.066229    1\n",
      "3.759326    1\n",
      "4.876273    1\n",
      "           ..\n",
      "3.741143    1\n",
      "4.592959    1\n",
      "4.604725    1\n",
      "4.165550    1\n",
      "2.309149    1\n",
      "Name: Turbidity, Length: 3276, dtype: int64\n",
      "0    1998\n",
      "1    1278\n",
      "Name: Potability, dtype: int64\n"
     ]
    }
   ],
   "source": [
    "# table distribition for each variable:\n",
    "for x in iris.columns:\n",
    "    print(iris[x].value_counts())"
   ]
  },
  {
   "cell_type": "code",
   "execution_count": 89,
   "metadata": {},
   "outputs": [
    {
     "data": {
      "text/plain": [
       "ph                 491\n",
       "Hardness             0\n",
       "Solids               0\n",
       "Chloramines          0\n",
       "Sulfate            781\n",
       "Conductivity         0\n",
       "Organic_carbon       0\n",
       "Trihalomethanes    162\n",
       "Turbidity            0\n",
       "Potability           0\n",
       "dtype: int64"
      ]
     },
     "execution_count": 89,
     "metadata": {},
     "output_type": "execute_result"
    }
   ],
   "source": [
    "#missing data\n",
    "iris.isna().sum()"
   ]
  },
  {
   "attachments": {},
   "cell_type": "markdown",
   "metadata": {},
   "source": [
    "Note: Change presentation of figures to Image"
   ]
  },
  {
   "cell_type": "code",
   "execution_count": 90,
   "metadata": {},
   "outputs": [
    {
     "data": {
      "image/png": "[encoded data removed]",
      "text/plain": [
       "<Figure size 432x288 with 1 Axes>"
      ]
     },
     "metadata": {},
     "output_type": "display_data"
    }
   ],
   "source": [
    "labels= ['Potable', 'Not Potable']\n",
    "colors=['pink', 'gray']\n",
    "\n",
    "Potable=iris['Potability']\n",
    "NumOfPotable=0\n",
    "NumOfNotPotable=0\n",
    "\n",
    "\n",
    "for x in Potable:\n",
    "    if x==1:\n",
    "        NumOfPotable+=1\n",
    "\n",
    "    else:\n",
    "        NumOfNotPotable+=1\n",
    "\n",
    "sizes= [NumOfPotable, NumOfNotPotable]\n",
    "plt.pie(sizes,labels=labels, colors=colors, startangle=90, shadow=True,explode=(0.1, 0 ), autopct='%1.2f%%')\n",
    "plt.title('Potability')\n",
    "plt.axis('equal')\n",
    "plt.show()"
   ]
  },
  {
   "attachments": {},
   "cell_type": "markdown",
   "metadata": {},
   "source": [
    "As we see in figure above and down,the potable water which means the water is safe represent 39.01% \n",
    "( about 1278 )of our dataset, while Not potable water represent 60.99% ( about 1998 ).\n"
   ]
  },
  {
   "cell_type": "code",
   "execution_count": 91,
   "metadata": {},
   "outputs": [
    {
     "ename": "TypeError",
     "evalue": "'numpy.ndarray' object is not callable",
     "output_type": "error",
     "traceback": [
      "\u001b[1;31m---------------------------------------------------------------------------\u001b[0m",
      "\u001b[1;31mTypeError\u001b[0m                                 Traceback (most recent call last)",
      "\u001b[1;32mc:\\fluttergithubapp\\AI-Project\\AI-Project\\AI_Project.ipynb Cell 12\u001b[0m in \u001b[0;36m<cell line: 2>\u001b[1;34m()\u001b[0m\n\u001b[0;32m      <a href='vscode-notebook-cell:/c%3A/fluttergithubapp/AI-Project/AI-Project/AI_Project.ipynb#Y246sZmlsZQ%3D%3D?line=0'>1</a>\u001b[0m chart \u001b[39m=\u001b[39m {\u001b[39m'\u001b[39m\u001b[39mPotable\u001b[39m\u001b[39m'\u001b[39m : NumOfPotable, \u001b[39m'\u001b[39m\u001b[39mNot Potable\u001b[39m\u001b[39m'\u001b[39m : NumOfNotPotable}\n\u001b[1;32m----> <a href='vscode-notebook-cell:/c%3A/fluttergithubapp/AI-Project/AI-Project/AI_Project.ipynb#Y246sZmlsZQ%3D%3D?line=1'>2</a>\u001b[0m label \u001b[39m=\u001b[39m \u001b[39mlist\u001b[39;49m(chart\u001b[39m.\u001b[39;49mkeys())\n\u001b[0;32m      <a href='vscode-notebook-cell:/c%3A/fluttergithubapp/AI-Project/AI-Project/AI_Project.ipynb#Y246sZmlsZQ%3D%3D?line=2'>3</a>\u001b[0m value \u001b[39m=\u001b[39m \u001b[39mlist\u001b[39m(chart\u001b[39m.\u001b[39mvalues())\n\u001b[0;32m      <a href='vscode-notebook-cell:/c%3A/fluttergithubapp/AI-Project/AI-Project/AI_Project.ipynb#Y246sZmlsZQ%3D%3D?line=3'>4</a>\u001b[0m colors \u001b[39m=\u001b[39m {\u001b[39m'\u001b[39m\u001b[39mPotable\u001b[39m\u001b[39m'\u001b[39m:\u001b[39m'\u001b[39m\u001b[39mpink\u001b[39m\u001b[39m'\u001b[39m, \u001b[39m'\u001b[39m\u001b[39mNot potable\u001b[39m\u001b[39m'\u001b[39m:\u001b[39m'\u001b[39m\u001b[39mgray\u001b[39m\u001b[39m'\u001b[39m}         \n",
      "\u001b[1;31mTypeError\u001b[0m: 'numpy.ndarray' object is not callable"
     ]
    }
   ],
   "source": [
    "\n",
    "chart = {'Potable' : NumOfPotable, 'Not Potable' : NumOfNotPotable}\n",
    "label = list(chart.keys())\n",
    "value = list(chart.values())\n",
    "colors = {'Potable':'pink', 'Not potable':'gray'}         \n",
    "labels = list(colors.keys())\n",
    "handles = [plt.Rectangle((0,0),1,1, color=colors[label]) for label in labels]\n",
    "plt.legend(handles, labels)\n",
    "plt.ylabel('Count')\n",
    "plt.bar(label, value,color=['pink', 'gray'])\n",
    "plt.show()"
   ]
  },
  {
   "cell_type": "code",
   "execution_count": 92,
   "metadata": {},
   "outputs": [
    {
     "name": "stdout",
     "output_type": "stream",
     "text": [
      "The mean of ph is  7.080794504276835\n",
      "The variance of ph is  2.5418547277358927\n"
     ]
    },
    {
     "data": {
      "image/png": "[encoded data removed]",
      "text/plain": [
       "<Figure size 432x288 with 1 Axes>"
      ]
     },
     "metadata": {
      "needs_background": "light"
     },
     "output_type": "display_data"
    }
   ],
   "source": [
    "sns.histplot(x='ph',data=iris)\n",
    "\n",
    "list = iris['ph'].copy().values\n",
    "list = list[~np.isnan(list)]\n",
    "\n",
    "print(\"The mean of ph is \" , mean(list))\n",
    "print(\"The variance of ph is \" , statistics.variance(list))\n",
    "\n",
    "plt.show()"
   ]
  },
  {
   "attachments": {},
   "cell_type": "markdown",
   "metadata": {},
   "source": [
    "Our dataset have different values of ph As shown in figure above. The range is between 0 and 14,\n",
    "Almost ph values are 7. The lowest values are between 12 to 14 and between 2 to 1. The mean of ph is 7.085 and variance is  2.54.\n"
   ]
  },
  {
   "cell_type": "code",
   "execution_count": 16,
   "metadata": {},
   "outputs": [
    {
     "name": "stdout",
     "output_type": "stream",
     "text": [
      "The mean of Hardness is  196.36949601730154\n",
      "The variance of Hardness is  1081.0787147379974\n"
     ]
    },
    {
     "data": {
      "image/png": "[encoded data removed]",
      "text/plain": [
       "<Figure size 640x480 with 1 Axes>"
      ]
     },
     "metadata": {},
     "output_type": "display_data"
    }
   ],
   "source": [
    "sns.histplot(x='Hardness',data=iris)\n",
    "\n",
    "list = iris['Hardness'].copy().values\n",
    "list = list[~np.isnan(list)]\n",
    "\n",
    "print(\"The mean of Hardness is \" , mean(list))\n",
    "print(\"The variance of Hardness is \" , statistics.variance(list))\n",
    "\n",
    "plt.show()"
   ]
  },
  {
   "attachments": {},
   "cell_type": "markdown",
   "metadata": {},
   "source": [
    "According to the graphs we can see that almost of values of the Hardness is 200. Hardness between 50-100 and above 300 have the lowest frequency. The mean is 196.36 and the variance is ."
   ]
  },
  {
   "cell_type": "code",
   "execution_count": 17,
   "metadata": {},
   "outputs": [
    {
     "name": "stdout",
     "output_type": "stream",
     "text": [
      "The mean of Solids is  22014.092526077104\n",
      "The variance of Solids is  76887834.36189838\n"
     ]
    },
    {
     "data": {
      "image/png": "[encoded data removed]",
      "text/plain": [
       "<Figure size 640x480 with 1 Axes>"
      ]
     },
     "metadata": {},
     "output_type": "display_data"
    }
   ],
   "source": [
    "sns.histplot(x='Solids',data=iris)\n",
    "\n",
    "list = iris['Solids'].copy().values\n",
    "list = list[~np.isnan(list)]\n",
    "\n",
    "print(\"The mean of Solids is \" , mean(list))\n",
    "print(\"The variance of Solids is \" , statistics.variance(list))\n",
    "\n",
    "plt.show()"
   ]
  },
  {
   "attachments": {},
   "cell_type": "markdown",
   "metadata": {},
   "source": [
    "From the figure above we can notice that solid values start from 0 to Almost 60000. The distribution of solids is higher is the left which means most of our dataset have frequency between 20K to 15K. The mean of  Solids is 22014.09 and the variance is 76887834.36."
   ]
  },
  {
   "cell_type": "code",
   "execution_count": 18,
   "metadata": {},
   "outputs": [
    {
     "name": "stdout",
     "output_type": "stream",
     "text": [
      "The mean of Chloramines is  7.122276793425787\n",
      "The variance of Chloramines is  2.50615776590587\n"
     ]
    },
    {
     "data": {
      "image/png": "[encoded data removed]",
      "text/plain": [
       "<Figure size 640x480 with 1 Axes>"
      ]
     },
     "metadata": {},
     "output_type": "display_data"
    }
   ],
   "source": [
    "sns.histplot(x='Chloramines',data=iris)\n",
    "\n",
    "list = iris['Chloramines'].copy().values\n",
    "list = list[~np.isnan(list)]\n",
    "\n",
    "print(\"The mean of Chloramines is \" , mean(list))\n",
    "print(\"The variance of Chloramines is \" , statistics.variance(list))\n",
    "\n",
    "plt.show()"
   ]
  },
  {
   "attachments": {},
   "cell_type": "markdown",
   "metadata": {},
   "source": [
    "As we can see above, chloramines variable have the highest frequency in almost 7. The mean is 7.12 and the variance is 2.50."
   ]
  },
  {
   "cell_type": "code",
   "execution_count": 19,
   "metadata": {},
   "outputs": [
    {
     "name": "stdout",
     "output_type": "stream",
     "text": [
      "The mean of Sulfate is  333.77577661081347\n",
      "The variance of Sulfate is  1715.3546738276493\n"
     ]
    },
    {
     "data": {
      "image/png": "[encoded data removed]",
      "text/plain": [
       "<Figure size 640x480 with 1 Axes>"
      ]
     },
     "metadata": {},
     "output_type": "display_data"
    }
   ],
   "source": [
    "sns.histplot(x='Sulfate',data=iris)\n",
    "\n",
    "list = iris['Sulfate'].copy().values\n",
    "list = list[~np.isnan(list)]\n",
    "\n",
    "print(\"The mean of Sulfate is \" , mean(list))\n",
    "print(\"The variance of Sulfate is \" , statistics.variance(list))\n",
    "\n",
    "plt.show()"
   ]
  },
  {
   "attachments": {},
   "cell_type": "markdown",
   "metadata": {},
   "source": [
    "According to image we can see that the distribution of sulfate in our dataset is little bit to right side. So , we have the most frequency in almost between 300 and 350. The mean is 333.77 and the variance is 1715.35."
   ]
  },
  {
   "cell_type": "code",
   "execution_count": 20,
   "metadata": {},
   "outputs": [
    {
     "name": "stdout",
     "output_type": "stream",
     "text": [
      "The mean of Conductivity is  426.20511068255325\n",
      "The variance of Conductivity is  6532.529329738223\n"
     ]
    },
    {
     "data": {
      "image/png": "[encoded data removed]",
      "text/plain": [
       "<Figure size 640x480 with 1 Axes>"
      ]
     },
     "metadata": {},
     "output_type": "display_data"
    }
   ],
   "source": [
    "sns.histplot(x='Conductivity',data=iris)\n",
    "\n",
    "list = iris['Conductivity'].copy().values\n",
    "list = list[~np.isnan(list)]\n",
    "\n",
    "print(\"The mean of Conductivity is \" , mean(list))\n",
    "print(\"The variance of Conductivity is \" , statistics.variance(list))\n",
    "\n",
    "plt.show()"
   ]
  },
  {
   "attachments": {},
   "cell_type": "markdown",
   "metadata": {},
   "source": [
    "According to the graphs we can see that almost of the frequency is near to 400. The mean is 426.20 and the variance is 6532.52."
   ]
  },
  {
   "cell_type": "code",
   "execution_count": 21,
   "metadata": {},
   "outputs": [
    {
     "name": "stdout",
     "output_type": "stream",
     "text": [
      "The mean of Organic_carbon is  14.284970247677318\n",
      "The variance of Organic_carbon is  10.943935812467114\n"
     ]
    },
    {
     "data": {
      "image/png": "[encoded data removed]",
      "text/plain": [
       "<Figure size 640x480 with 1 Axes>"
      ]
     },
     "metadata": {},
     "output_type": "display_data"
    }
   ],
   "source": [
    "sns.histplot(x='Organic_carbon',data=iris)\n",
    "\n",
    "list = iris['Organic_carbon'].copy().values\n",
    "list = list[~np.isnan(list)]\n",
    "\n",
    "print(\"The mean of Organic_carbon is \" , mean(list))\n",
    "print(\"The variance of Organic_carbon is \" , statistics.variance(list))\n",
    "\n",
    "plt.show()"
   ]
  },
  {
   "attachments": {},
   "cell_type": "markdown",
   "metadata": {},
   "source": [
    "We can see that most of the water have organic carbon near to 15. Also , there is a very small frequency having 25 and above. The mean is 14.28 and the variance is 10.94."
   ]
  },
  {
   "cell_type": "code",
   "execution_count": 22,
   "metadata": {},
   "outputs": [
    {
     "name": "stdout",
     "output_type": "stream",
     "text": [
      "The mean of Trihalomethanes is  66.39629294676803\n",
      "The variance of Trihalomethanes is  261.6308974588445\n"
     ]
    },
    {
     "data": {
      "image/png": "[encoded data removed]",
      "text/plain": [
       "<Figure size 640x480 with 1 Axes>"
      ]
     },
     "metadata": {},
     "output_type": "display_data"
    }
   ],
   "source": [
    "sns.histplot(x='Trihalomethanes',data=iris)\n",
    "\n",
    "list = iris['Trihalomethanes'].copy().values\n",
    "list = list[~np.isnan(list)]\n",
    "\n",
    "print(\"The mean of Trihalomethanes is \" , mean(list))\n",
    "print(\"The variance of Trihalomethanes is \" , statistics.variance(list))\n",
    "\n",
    "plt.show()"
   ]
  },
  {
   "attachments": {},
   "cell_type": "markdown",
   "metadata": {},
   "source": [
    "We can see that, the highest value of frequency is between 60 to 80, which mean the huge amount water sample have Trihalomethanes in these range. The mean is 66.39 and the variance is 261.63."
   ]
  },
  {
   "cell_type": "code",
   "execution_count": 23,
   "metadata": {},
   "outputs": [
    {
     "name": "stdout",
     "output_type": "stream",
     "text": [
      "The mean of Turbidity is  3.9667861697910585\n",
      "The variance of Turbidity is  0.608996703473493\n"
     ]
    },
    {
     "data": {
      "image/png": "[encoded data removed]",
      "text/plain": [
       "<Figure size 640x480 with 1 Axes>"
      ]
     },
     "metadata": {},
     "output_type": "display_data"
    }
   ],
   "source": [
    "sns.histplot(x='Turbidity',data=iris)\n",
    "\n",
    "\n",
    "list = iris['Turbidity'].copy().values\n",
    "list = list[~np.isnan(list)]\n",
    "\n",
    "print(\"The mean of Turbidity is \" , mean(list))\n",
    "print(\"The variance of Turbidity is \" , statistics.variance(list))\n",
    "\n",
    "plt.show()"
   ]
  },
  {
   "attachments": {},
   "cell_type": "markdown",
   "metadata": {},
   "source": [
    "According to the above. We have the highest frequency of water sample near to Turbidity 4. The mean is 3.96 and the variance is 0.60. "
   ]
  },
  {
   "attachments": {},
   "cell_type": "markdown",
   "metadata": {},
   "source": [
    "# Data Preprocessing\n",
    "\n",
    "In this part, we only needed to discretization, and remove the null value, which is what our dataset need for it "
   ]
  },
  {
   "attachments": {},
   "cell_type": "markdown",
   "metadata": {},
   "source": [
    "# 1. Remove null value"
   ]
  },
  {
   "cell_type": "code",
   "execution_count": 93,
   "metadata": {},
   "outputs": [
    {
     "data": {
      "text/html": [
       "<div>\n",
       "<style scoped>\n",
       "    .dataframe tbody tr th:only-of-type {\n",
       "        vertical-align: middle;\n",
       "    }\n",
       "\n",
       "    .dataframe tbody tr th {\n",
       "        vertical-align: top;\n",
       "    }\n",
       "\n",
       "    .dataframe thead th {\n",
       "        text-align: right;\n",
       "    }\n",
       "</style>\n",
       "<table border=\"1\" class=\"dataframe\">\n",
       "  <thead>\n",
       "    <tr style=\"text-align: right;\">\n",
       "      <th></th>\n",
       "      <th>ph</th>\n",
       "      <th>Hardness</th>\n",
       "      <th>Solids</th>\n",
       "      <th>Chloramines</th>\n",
       "      <th>Sulfate</th>\n",
       "      <th>Conductivity</th>\n",
       "      <th>Organic_carbon</th>\n",
       "      <th>Trihalomethanes</th>\n",
       "      <th>Turbidity</th>\n",
       "      <th>Potability</th>\n",
       "    </tr>\n",
       "  </thead>\n",
       "  <tbody>\n",
       "    <tr>\n",
       "      <th>0</th>\n",
       "      <td>NaN</td>\n",
       "      <td>204.890455</td>\n",
       "      <td>20791.318981</td>\n",
       "      <td>7.300212</td>\n",
       "      <td>368.516441</td>\n",
       "      <td>564.308654</td>\n",
       "      <td>10.379783</td>\n",
       "      <td>86.990970</td>\n",
       "      <td>2.963135</td>\n",
       "      <td>0</td>\n",
       "    </tr>\n",
       "    <tr>\n",
       "      <th>1</th>\n",
       "      <td>3.716080</td>\n",
       "      <td>129.422921</td>\n",
       "      <td>18630.057858</td>\n",
       "      <td>6.635246</td>\n",
       "      <td>NaN</td>\n",
       "      <td>592.885359</td>\n",
       "      <td>15.180013</td>\n",
       "      <td>56.329076</td>\n",
       "      <td>4.500656</td>\n",
       "      <td>0</td>\n",
       "    </tr>\n",
       "    <tr>\n",
       "      <th>2</th>\n",
       "      <td>8.099124</td>\n",
       "      <td>224.236259</td>\n",
       "      <td>19909.541732</td>\n",
       "      <td>9.275884</td>\n",
       "      <td>NaN</td>\n",
       "      <td>418.606213</td>\n",
       "      <td>16.868637</td>\n",
       "      <td>66.420093</td>\n",
       "      <td>3.055934</td>\n",
       "      <td>0</td>\n",
       "    </tr>\n",
       "    <tr>\n",
       "      <th>3</th>\n",
       "      <td>8.316766</td>\n",
       "      <td>214.373394</td>\n",
       "      <td>22018.417441</td>\n",
       "      <td>8.059332</td>\n",
       "      <td>356.886136</td>\n",
       "      <td>363.266516</td>\n",
       "      <td>18.436524</td>\n",
       "      <td>100.341674</td>\n",
       "      <td>4.628771</td>\n",
       "      <td>0</td>\n",
       "    </tr>\n",
       "    <tr>\n",
       "      <th>4</th>\n",
       "      <td>9.092223</td>\n",
       "      <td>181.101509</td>\n",
       "      <td>17978.986339</td>\n",
       "      <td>6.546600</td>\n",
       "      <td>310.135738</td>\n",
       "      <td>398.410813</td>\n",
       "      <td>11.558279</td>\n",
       "      <td>31.997993</td>\n",
       "      <td>4.075075</td>\n",
       "      <td>0</td>\n",
       "    </tr>\n",
       "    <tr>\n",
       "      <th>...</th>\n",
       "      <td>...</td>\n",
       "      <td>...</td>\n",
       "      <td>...</td>\n",
       "      <td>...</td>\n",
       "      <td>...</td>\n",
       "      <td>...</td>\n",
       "      <td>...</td>\n",
       "      <td>...</td>\n",
       "      <td>...</td>\n",
       "      <td>...</td>\n",
       "    </tr>\n",
       "    <tr>\n",
       "      <th>3271</th>\n",
       "      <td>4.668102</td>\n",
       "      <td>193.681735</td>\n",
       "      <td>47580.991603</td>\n",
       "      <td>7.166639</td>\n",
       "      <td>359.948574</td>\n",
       "      <td>526.424171</td>\n",
       "      <td>13.894419</td>\n",
       "      <td>66.687695</td>\n",
       "      <td>4.435821</td>\n",
       "      <td>1</td>\n",
       "    </tr>\n",
       "    <tr>\n",
       "      <th>3272</th>\n",
       "      <td>7.808856</td>\n",
       "      <td>193.553212</td>\n",
       "      <td>17329.802160</td>\n",
       "      <td>8.061362</td>\n",
       "      <td>NaN</td>\n",
       "      <td>392.449580</td>\n",
       "      <td>19.903225</td>\n",
       "      <td>NaN</td>\n",
       "      <td>2.798243</td>\n",
       "      <td>1</td>\n",
       "    </tr>\n",
       "    <tr>\n",
       "      <th>3273</th>\n",
       "      <td>9.419510</td>\n",
       "      <td>175.762646</td>\n",
       "      <td>33155.578218</td>\n",
       "      <td>7.350233</td>\n",
       "      <td>NaN</td>\n",
       "      <td>432.044783</td>\n",
       "      <td>11.039070</td>\n",
       "      <td>69.845400</td>\n",
       "      <td>3.298875</td>\n",
       "      <td>1</td>\n",
       "    </tr>\n",
       "    <tr>\n",
       "      <th>3274</th>\n",
       "      <td>5.126763</td>\n",
       "      <td>230.603758</td>\n",
       "      <td>11983.869376</td>\n",
       "      <td>6.303357</td>\n",
       "      <td>NaN</td>\n",
       "      <td>402.883113</td>\n",
       "      <td>11.168946</td>\n",
       "      <td>77.488213</td>\n",
       "      <td>4.708658</td>\n",
       "      <td>1</td>\n",
       "    </tr>\n",
       "    <tr>\n",
       "      <th>3275</th>\n",
       "      <td>7.874671</td>\n",
       "      <td>195.102299</td>\n",
       "      <td>17404.177061</td>\n",
       "      <td>7.509306</td>\n",
       "      <td>NaN</td>\n",
       "      <td>327.459760</td>\n",
       "      <td>16.140368</td>\n",
       "      <td>78.698446</td>\n",
       "      <td>2.309149</td>\n",
       "      <td>1</td>\n",
       "    </tr>\n",
       "  </tbody>\n",
       "</table>\n",
       "<p>3276 rows × 10 columns</p>\n",
       "</div>"
      ],
      "text/plain": [
       "            ph    Hardness        Solids  Chloramines     Sulfate  \\\n",
       "0          NaN  204.890455  20791.318981     7.300212  368.516441   \n",
       "1     3.716080  129.422921  18630.057858     6.635246         NaN   \n",
       "2     8.099124  224.236259  19909.541732     9.275884         NaN   \n",
       "3     8.316766  214.373394  22018.417441     8.059332  356.886136   \n",
       "4     9.092223  181.101509  17978.986339     6.546600  310.135738   \n",
       "...        ...         ...           ...          ...         ...   \n",
       "3271  4.668102  193.681735  47580.991603     7.166639  359.948574   \n",
       "3272  7.808856  193.553212  17329.802160     8.061362         NaN   \n",
       "3273  9.419510  175.762646  33155.578218     7.350233         NaN   \n",
       "3274  5.126763  230.603758  11983.869376     6.303357         NaN   \n",
       "3275  7.874671  195.102299  17404.177061     7.509306         NaN   \n",
       "\n",
       "      Conductivity  Organic_carbon  Trihalomethanes  Turbidity  Potability  \n",
       "0       564.308654       10.379783        86.990970   2.963135           0  \n",
       "1       592.885359       15.180013        56.329076   4.500656           0  \n",
       "2       418.606213       16.868637        66.420093   3.055934           0  \n",
       "3       363.266516       18.436524       100.341674   4.628771           0  \n",
       "4       398.410813       11.558279        31.997993   4.075075           0  \n",
       "...            ...             ...              ...        ...         ...  \n",
       "3271    526.424171       13.894419        66.687695   4.435821           1  \n",
       "3272    392.449580       19.903225              NaN   2.798243           1  \n",
       "3273    432.044783       11.039070        69.845400   3.298875           1  \n",
       "3274    402.883113       11.168946        77.488213   4.708658           1  \n",
       "3275    327.459760       16.140368        78.698446   2.309149           1  \n",
       "\n",
       "[3276 rows x 10 columns]"
      ]
     },
     "execution_count": 93,
     "metadata": {},
     "output_type": "execute_result"
    }
   ],
   "source": [
    "iris"
   ]
  },
  {
   "attachments": {},
   "cell_type": "markdown",
   "metadata": {},
   "source": [
    "the dataset is contain 3276 rows before remove null value"
   ]
  },
  {
   "cell_type": "code",
   "execution_count": 94,
   "metadata": {},
   "outputs": [
    {
     "data": {
      "text/plain": [
       "ph                 491\n",
       "Hardness             0\n",
       "Solids               0\n",
       "Chloramines          0\n",
       "Sulfate            781\n",
       "Conductivity         0\n",
       "Organic_carbon       0\n",
       "Trihalomethanes    162\n",
       "Turbidity            0\n",
       "Potability           0\n",
       "dtype: int64"
      ]
     },
     "execution_count": 94,
     "metadata": {},
     "output_type": "execute_result"
    }
   ],
   "source": [
    "iris.isnull().sum()"
   ]
  },
  {
   "attachments": {},
   "cell_type": "markdown",
   "metadata": {},
   "source": [
    "before remove null value:\n",
    "1. ph contain 491 null value\n",
    "2. Sulfate contain 781 null value\n",
    "3. Trihalomethanes contain 162 null value"
   ]
  },
  {
   "cell_type": "code",
   "execution_count": 95,
   "metadata": {},
   "outputs": [],
   "source": [
    "iris=iris.dropna()"
   ]
  },
  {
   "cell_type": "code",
   "execution_count": 96,
   "metadata": {},
   "outputs": [
    {
     "data": {
      "text/html": [
       "<div>\n",
       "<style scoped>\n",
       "    .dataframe tbody tr th:only-of-type {\n",
       "        vertical-align: middle;\n",
       "    }\n",
       "\n",
       "    .dataframe tbody tr th {\n",
       "        vertical-align: top;\n",
       "    }\n",
       "\n",
       "    .dataframe thead th {\n",
       "        text-align: right;\n",
       "    }\n",
       "</style>\n",
       "<table border=\"1\" class=\"dataframe\">\n",
       "  <thead>\n",
       "    <tr style=\"text-align: right;\">\n",
       "      <th></th>\n",
       "      <th>ph</th>\n",
       "      <th>Hardness</th>\n",
       "      <th>Solids</th>\n",
       "      <th>Chloramines</th>\n",
       "      <th>Sulfate</th>\n",
       "      <th>Conductivity</th>\n",
       "      <th>Organic_carbon</th>\n",
       "      <th>Trihalomethanes</th>\n",
       "      <th>Turbidity</th>\n",
       "      <th>Potability</th>\n",
       "    </tr>\n",
       "  </thead>\n",
       "  <tbody>\n",
       "    <tr>\n",
       "      <th>3</th>\n",
       "      <td>8.316766</td>\n",
       "      <td>214.373394</td>\n",
       "      <td>22018.417441</td>\n",
       "      <td>8.059332</td>\n",
       "      <td>356.886136</td>\n",
       "      <td>363.266516</td>\n",
       "      <td>18.436524</td>\n",
       "      <td>100.341674</td>\n",
       "      <td>4.628771</td>\n",
       "      <td>0</td>\n",
       "    </tr>\n",
       "    <tr>\n",
       "      <th>4</th>\n",
       "      <td>9.092223</td>\n",
       "      <td>181.101509</td>\n",
       "      <td>17978.986339</td>\n",
       "      <td>6.546600</td>\n",
       "      <td>310.135738</td>\n",
       "      <td>398.410813</td>\n",
       "      <td>11.558279</td>\n",
       "      <td>31.997993</td>\n",
       "      <td>4.075075</td>\n",
       "      <td>0</td>\n",
       "    </tr>\n",
       "    <tr>\n",
       "      <th>5</th>\n",
       "      <td>5.584087</td>\n",
       "      <td>188.313324</td>\n",
       "      <td>28748.687739</td>\n",
       "      <td>7.544869</td>\n",
       "      <td>326.678363</td>\n",
       "      <td>280.467916</td>\n",
       "      <td>8.399735</td>\n",
       "      <td>54.917862</td>\n",
       "      <td>2.559708</td>\n",
       "      <td>0</td>\n",
       "    </tr>\n",
       "    <tr>\n",
       "      <th>6</th>\n",
       "      <td>10.223862</td>\n",
       "      <td>248.071735</td>\n",
       "      <td>28749.716544</td>\n",
       "      <td>7.513408</td>\n",
       "      <td>393.663396</td>\n",
       "      <td>283.651634</td>\n",
       "      <td>13.789695</td>\n",
       "      <td>84.603556</td>\n",
       "      <td>2.672989</td>\n",
       "      <td>0</td>\n",
       "    </tr>\n",
       "    <tr>\n",
       "      <th>7</th>\n",
       "      <td>8.635849</td>\n",
       "      <td>203.361523</td>\n",
       "      <td>13672.091764</td>\n",
       "      <td>4.563009</td>\n",
       "      <td>303.309771</td>\n",
       "      <td>474.607645</td>\n",
       "      <td>12.363817</td>\n",
       "      <td>62.798309</td>\n",
       "      <td>4.401425</td>\n",
       "      <td>0</td>\n",
       "    </tr>\n",
       "    <tr>\n",
       "      <th>...</th>\n",
       "      <td>...</td>\n",
       "      <td>...</td>\n",
       "      <td>...</td>\n",
       "      <td>...</td>\n",
       "      <td>...</td>\n",
       "      <td>...</td>\n",
       "      <td>...</td>\n",
       "      <td>...</td>\n",
       "      <td>...</td>\n",
       "      <td>...</td>\n",
       "    </tr>\n",
       "    <tr>\n",
       "      <th>3267</th>\n",
       "      <td>8.989900</td>\n",
       "      <td>215.047358</td>\n",
       "      <td>15921.412018</td>\n",
       "      <td>6.297312</td>\n",
       "      <td>312.931022</td>\n",
       "      <td>390.410231</td>\n",
       "      <td>9.899115</td>\n",
       "      <td>55.069304</td>\n",
       "      <td>4.613843</td>\n",
       "      <td>1</td>\n",
       "    </tr>\n",
       "    <tr>\n",
       "      <th>3268</th>\n",
       "      <td>6.702547</td>\n",
       "      <td>207.321086</td>\n",
       "      <td>17246.920347</td>\n",
       "      <td>7.708117</td>\n",
       "      <td>304.510230</td>\n",
       "      <td>329.266002</td>\n",
       "      <td>16.217303</td>\n",
       "      <td>28.878601</td>\n",
       "      <td>3.442983</td>\n",
       "      <td>1</td>\n",
       "    </tr>\n",
       "    <tr>\n",
       "      <th>3269</th>\n",
       "      <td>11.491011</td>\n",
       "      <td>94.812545</td>\n",
       "      <td>37188.826022</td>\n",
       "      <td>9.263166</td>\n",
       "      <td>258.930600</td>\n",
       "      <td>439.893618</td>\n",
       "      <td>16.172755</td>\n",
       "      <td>41.558501</td>\n",
       "      <td>4.369264</td>\n",
       "      <td>1</td>\n",
       "    </tr>\n",
       "    <tr>\n",
       "      <th>3270</th>\n",
       "      <td>6.069616</td>\n",
       "      <td>186.659040</td>\n",
       "      <td>26138.780191</td>\n",
       "      <td>7.747547</td>\n",
       "      <td>345.700257</td>\n",
       "      <td>415.886955</td>\n",
       "      <td>12.067620</td>\n",
       "      <td>60.419921</td>\n",
       "      <td>3.669712</td>\n",
       "      <td>1</td>\n",
       "    </tr>\n",
       "    <tr>\n",
       "      <th>3271</th>\n",
       "      <td>4.668102</td>\n",
       "      <td>193.681735</td>\n",
       "      <td>47580.991603</td>\n",
       "      <td>7.166639</td>\n",
       "      <td>359.948574</td>\n",
       "      <td>526.424171</td>\n",
       "      <td>13.894419</td>\n",
       "      <td>66.687695</td>\n",
       "      <td>4.435821</td>\n",
       "      <td>1</td>\n",
       "    </tr>\n",
       "  </tbody>\n",
       "</table>\n",
       "<p>2011 rows × 10 columns</p>\n",
       "</div>"
      ],
      "text/plain": [
       "             ph    Hardness        Solids  Chloramines     Sulfate  \\\n",
       "3      8.316766  214.373394  22018.417441     8.059332  356.886136   \n",
       "4      9.092223  181.101509  17978.986339     6.546600  310.135738   \n",
       "5      5.584087  188.313324  28748.687739     7.544869  326.678363   \n",
       "6     10.223862  248.071735  28749.716544     7.513408  393.663396   \n",
       "7      8.635849  203.361523  13672.091764     4.563009  303.309771   \n",
       "...         ...         ...           ...          ...         ...   \n",
       "3267   8.989900  215.047358  15921.412018     6.297312  312.931022   \n",
       "3268   6.702547  207.321086  17246.920347     7.708117  304.510230   \n",
       "3269  11.491011   94.812545  37188.826022     9.263166  258.930600   \n",
       "3270   6.069616  186.659040  26138.780191     7.747547  345.700257   \n",
       "3271   4.668102  193.681735  47580.991603     7.166639  359.948574   \n",
       "\n",
       "      Conductivity  Organic_carbon  Trihalomethanes  Turbidity  Potability  \n",
       "3       363.266516       18.436524       100.341674   4.628771           0  \n",
       "4       398.410813       11.558279        31.997993   4.075075           0  \n",
       "5       280.467916        8.399735        54.917862   2.559708           0  \n",
       "6       283.651634       13.789695        84.603556   2.672989           0  \n",
       "7       474.607645       12.363817        62.798309   4.401425           0  \n",
       "...            ...             ...              ...        ...         ...  \n",
       "3267    390.410231        9.899115        55.069304   4.613843           1  \n",
       "3268    329.266002       16.217303        28.878601   3.442983           1  \n",
       "3269    439.893618       16.172755        41.558501   4.369264           1  \n",
       "3270    415.886955       12.067620        60.419921   3.669712           1  \n",
       "3271    526.424171       13.894419        66.687695   4.435821           1  \n",
       "\n",
       "[2011 rows x 10 columns]"
      ]
     },
     "execution_count": 96,
     "metadata": {},
     "output_type": "execute_result"
    }
   ],
   "source": [
    "iris"
   ]
  },
  {
   "attachments": {},
   "cell_type": "markdown",
   "metadata": {},
   "source": [
    "number of rows after remove null value are 2011"
   ]
  },
  {
   "cell_type": "code",
   "execution_count": 97,
   "metadata": {},
   "outputs": [
    {
     "data": {
      "text/plain": [
       "ph                 0\n",
       "Hardness           0\n",
       "Solids             0\n",
       "Chloramines        0\n",
       "Sulfate            0\n",
       "Conductivity       0\n",
       "Organic_carbon     0\n",
       "Trihalomethanes    0\n",
       "Turbidity          0\n",
       "Potability         0\n",
       "dtype: int64"
      ]
     },
     "execution_count": 97,
     "metadata": {},
     "output_type": "execute_result"
    }
   ],
   "source": [
    "iris.isnull().sum()"
   ]
  },
  {
   "attachments": {},
   "cell_type": "markdown",
   "metadata": {},
   "source": [
    "after remove null value all null value are removed"
   ]
  },
  {
   "attachments": {},
   "cell_type": "markdown",
   "metadata": {},
   "source": [
    "# 2.Discretization"
   ]
  },
  {
   "attachments": {},
   "cell_type": "markdown",
   "metadata": {},
   "source": [
    "In the classification of pH, we divided it into 3 categories, acidic, neutral, and alkaline:\n",
    "1. acidic from 0 to 6.5 wich represented as 1\n",
    "2. neutral from 6.5 to 8.5 wich represented as 2\n",
    "3. alkaline from 8.5 to 14 wich represented as 3"
   ]
  },
  {
   "cell_type": "code",
   "execution_count": 98,
   "metadata": {},
   "outputs": [],
   "source": [
    "iris['ph']=pd.cut(x=iris['ph'], bins=[0,6.5,8.5,14], labels=[1, 2 , 3])"
   ]
  },
  {
   "attachments": {},
   "cell_type": "markdown",
   "metadata": {},
   "source": [
    "In the classification of Hardness, we divided it into 4 categories, Soft, Mod Hard,Hard, and Very Hard:\n",
    "1. Soft from 0 to 60 wich represented as 1\n",
    "2. Mod Hard from 60 to 120 wich represented as 2\n",
    "3. Hard from 120 to 180 wich represented as 3\n",
    "4. Very Hard from 180 to 1000000 wich represented as 4"
   ]
  },
  {
   "cell_type": "code",
   "execution_count": 99,
   "metadata": {},
   "outputs": [],
   "source": [
    "iris['Hardness']=pd.cut(x=iris['Hardness'], bins=[0,60,120,180,1000000], labels=[1, 2 , 3 , 4])"
   ]
  },
  {
   "attachments": {},
   "cell_type": "markdown",
   "metadata": {},
   "source": [
    "The remaining minerals were divided into 3 categories, which are 1, 2 and 3"
   ]
  },
  {
   "cell_type": "code",
   "execution_count": 100,
   "metadata": {},
   "outputs": [],
   "source": [
    "iris['Chloramines']=pd.qcut(x=iris['Chloramines'], q=3, labels=[1, 2 , 3])"
   ]
  },
  {
   "cell_type": "code",
   "execution_count": 101,
   "metadata": {},
   "outputs": [],
   "source": [
    "iris['Conductivity']=pd.qcut(x=iris['Conductivity'], q=3, labels=[1, 2 , 3])"
   ]
  },
  {
   "cell_type": "code",
   "execution_count": 102,
   "metadata": {},
   "outputs": [],
   "source": [
    "iris['Organic_carbon']=pd.qcut(x=iris['Organic_carbon'], q=3, labels=[1, 2 , 3])"
   ]
  },
  {
   "cell_type": "code",
   "execution_count": 103,
   "metadata": {},
   "outputs": [],
   "source": [
    "iris['Solids']=pd.qcut(x=iris['Solids'], q=3, labels=[1, 2 , 3])"
   ]
  },
  {
   "cell_type": "code",
   "execution_count": 104,
   "metadata": {},
   "outputs": [],
   "source": [
    "iris['Sulfate']=pd.qcut(x=iris['Sulfate'], q=3, labels=[1, 2 , 3])"
   ]
  },
  {
   "cell_type": "code",
   "execution_count": 105,
   "metadata": {},
   "outputs": [],
   "source": [
    "iris['Trihalomethanes']=pd.qcut(x=iris['Trihalomethanes'], q=3, labels=[1, 2 , 3])"
   ]
  },
  {
   "cell_type": "code",
   "execution_count": 106,
   "metadata": {},
   "outputs": [],
   "source": [
    "iris['Turbidity']=pd.qcut(x=iris['Turbidity'], q=3, labels=[1, 2 , 3])"
   ]
  },
  {
   "cell_type": "code",
   "execution_count": 107,
   "metadata": {},
   "outputs": [
    {
     "data": {
      "text/html": [
       "<div>\n",
       "<style scoped>\n",
       "    .dataframe tbody tr th:only-of-type {\n",
       "        vertical-align: middle;\n",
       "    }\n",
       "\n",
       "    .dataframe tbody tr th {\n",
       "        vertical-align: top;\n",
       "    }\n",
       "\n",
       "    .dataframe thead th {\n",
       "        text-align: right;\n",
       "    }\n",
       "</style>\n",
       "<table border=\"1\" class=\"dataframe\">\n",
       "  <thead>\n",
       "    <tr style=\"text-align: right;\">\n",
       "      <th></th>\n",
       "      <th>ph</th>\n",
       "      <th>Hardness</th>\n",
       "      <th>Solids</th>\n",
       "      <th>Chloramines</th>\n",
       "      <th>Sulfate</th>\n",
       "      <th>Conductivity</th>\n",
       "      <th>Organic_carbon</th>\n",
       "      <th>Trihalomethanes</th>\n",
       "      <th>Turbidity</th>\n",
       "      <th>Potability</th>\n",
       "    </tr>\n",
       "  </thead>\n",
       "  <tbody>\n",
       "    <tr>\n",
       "      <th>3</th>\n",
       "      <td>2</td>\n",
       "      <td>4</td>\n",
       "      <td>2</td>\n",
       "      <td>3</td>\n",
       "      <td>3</td>\n",
       "      <td>1</td>\n",
       "      <td>3</td>\n",
       "      <td>3</td>\n",
       "      <td>3</td>\n",
       "      <td>0</td>\n",
       "    </tr>\n",
       "    <tr>\n",
       "      <th>4</th>\n",
       "      <td>3</td>\n",
       "      <td>4</td>\n",
       "      <td>2</td>\n",
       "      <td>2</td>\n",
       "      <td>1</td>\n",
       "      <td>2</td>\n",
       "      <td>1</td>\n",
       "      <td>1</td>\n",
       "      <td>2</td>\n",
       "      <td>0</td>\n",
       "    </tr>\n",
       "    <tr>\n",
       "      <th>5</th>\n",
       "      <td>1</td>\n",
       "      <td>4</td>\n",
       "      <td>3</td>\n",
       "      <td>2</td>\n",
       "      <td>2</td>\n",
       "      <td>1</td>\n",
       "      <td>1</td>\n",
       "      <td>1</td>\n",
       "      <td>1</td>\n",
       "      <td>0</td>\n",
       "    </tr>\n",
       "    <tr>\n",
       "      <th>6</th>\n",
       "      <td>3</td>\n",
       "      <td>4</td>\n",
       "      <td>3</td>\n",
       "      <td>2</td>\n",
       "      <td>3</td>\n",
       "      <td>1</td>\n",
       "      <td>2</td>\n",
       "      <td>3</td>\n",
       "      <td>1</td>\n",
       "      <td>0</td>\n",
       "    </tr>\n",
       "    <tr>\n",
       "      <th>7</th>\n",
       "      <td>3</td>\n",
       "      <td>4</td>\n",
       "      <td>1</td>\n",
       "      <td>1</td>\n",
       "      <td>1</td>\n",
       "      <td>3</td>\n",
       "      <td>1</td>\n",
       "      <td>2</td>\n",
       "      <td>3</td>\n",
       "      <td>0</td>\n",
       "    </tr>\n",
       "    <tr>\n",
       "      <th>...</th>\n",
       "      <td>...</td>\n",
       "      <td>...</td>\n",
       "      <td>...</td>\n",
       "      <td>...</td>\n",
       "      <td>...</td>\n",
       "      <td>...</td>\n",
       "      <td>...</td>\n",
       "      <td>...</td>\n",
       "      <td>...</td>\n",
       "      <td>...</td>\n",
       "    </tr>\n",
       "    <tr>\n",
       "      <th>3267</th>\n",
       "      <td>3</td>\n",
       "      <td>4</td>\n",
       "      <td>1</td>\n",
       "      <td>1</td>\n",
       "      <td>1</td>\n",
       "      <td>2</td>\n",
       "      <td>1</td>\n",
       "      <td>1</td>\n",
       "      <td>3</td>\n",
       "      <td>1</td>\n",
       "    </tr>\n",
       "    <tr>\n",
       "      <th>3268</th>\n",
       "      <td>2</td>\n",
       "      <td>4</td>\n",
       "      <td>1</td>\n",
       "      <td>2</td>\n",
       "      <td>1</td>\n",
       "      <td>1</td>\n",
       "      <td>3</td>\n",
       "      <td>1</td>\n",
       "      <td>1</td>\n",
       "      <td>1</td>\n",
       "    </tr>\n",
       "    <tr>\n",
       "      <th>3269</th>\n",
       "      <td>3</td>\n",
       "      <td>2</td>\n",
       "      <td>3</td>\n",
       "      <td>3</td>\n",
       "      <td>1</td>\n",
       "      <td>2</td>\n",
       "      <td>3</td>\n",
       "      <td>1</td>\n",
       "      <td>3</td>\n",
       "      <td>1</td>\n",
       "    </tr>\n",
       "    <tr>\n",
       "      <th>3270</th>\n",
       "      <td>1</td>\n",
       "      <td>4</td>\n",
       "      <td>3</td>\n",
       "      <td>3</td>\n",
       "      <td>2</td>\n",
       "      <td>2</td>\n",
       "      <td>1</td>\n",
       "      <td>2</td>\n",
       "      <td>2</td>\n",
       "      <td>1</td>\n",
       "    </tr>\n",
       "    <tr>\n",
       "      <th>3271</th>\n",
       "      <td>1</td>\n",
       "      <td>4</td>\n",
       "      <td>3</td>\n",
       "      <td>2</td>\n",
       "      <td>3</td>\n",
       "      <td>3</td>\n",
       "      <td>2</td>\n",
       "      <td>2</td>\n",
       "      <td>3</td>\n",
       "      <td>1</td>\n",
       "    </tr>\n",
       "  </tbody>\n",
       "</table>\n",
       "<p>2011 rows × 10 columns</p>\n",
       "</div>"
      ],
      "text/plain": [
       "     ph Hardness Solids Chloramines Sulfate Conductivity Organic_carbon  \\\n",
       "3     2        4      2           3       3            1              3   \n",
       "4     3        4      2           2       1            2              1   \n",
       "5     1        4      3           2       2            1              1   \n",
       "6     3        4      3           2       3            1              2   \n",
       "7     3        4      1           1       1            3              1   \n",
       "...  ..      ...    ...         ...     ...          ...            ...   \n",
       "3267  3        4      1           1       1            2              1   \n",
       "3268  2        4      1           2       1            1              3   \n",
       "3269  3        2      3           3       1            2              3   \n",
       "3270  1        4      3           3       2            2              1   \n",
       "3271  1        4      3           2       3            3              2   \n",
       "\n",
       "     Trihalomethanes Turbidity  Potability  \n",
       "3                  3         3           0  \n",
       "4                  1         2           0  \n",
       "5                  1         1           0  \n",
       "6                  3         1           0  \n",
       "7                  2         3           0  \n",
       "...              ...       ...         ...  \n",
       "3267               1         3           1  \n",
       "3268               1         1           1  \n",
       "3269               1         3           1  \n",
       "3270               2         2           1  \n",
       "3271               2         3           1  \n",
       "\n",
       "[2011 rows x 10 columns]"
      ]
     },
     "execution_count": 107,
     "metadata": {},
     "output_type": "execute_result"
    }
   ],
   "source": [
    "iris"
   ]
  },
  {
   "attachments": {},
   "cell_type": "markdown",
   "metadata": {},
   "source": [
    "our dataset after discretization, and remove null value contains 2011 rows and 10 columns."
   ]
  },
  {
   "attachments": {},
   "cell_type": "markdown",
   "metadata": {},
   "source": [
    "# Phase2: supervised learning"
   ]
  },
  {
   "attachments": {},
   "cell_type": "markdown",
   "metadata": {},
   "source": [
    "**1. Logistic regression**\n",
    "\n",
    "\n",
    "\n",
    "Logistic regression, also referred to as a logit model, is a statistical model commonly applied for predictive analytics and classification purposes. It predicts the likelihood of an event happening, such as voting or not voting, from a set of independent variables in a given dataset.[Source]\n",
    "\n",
    " \n",
    "[Source]What is logistic regression? (no date) IBM. Available at: https://www.ibm.com/topics/logistic-regression#:~:text=Resources-,What%20is%20logistic%20regression%3F,given%20dataset%20of%20independent%20variables. (Accessed: 10 May 2023).\n",
    "\n",
    "\n",
    "\n",
    "\n",
    "\n",
    "\n",
    "\n",
    "First step we import libraries"
   ]
  },
  {
   "cell_type": "code",
   "execution_count": 108,
   "metadata": {},
   "outputs": [],
   "source": [
    "from sklearn.model_selection import train_test_split\n",
    "import pandas as pd\n",
    "import pandas as pd\n",
    "from sklearn.model_selection import train_test_split\n",
    "%matplotlib inline\n",
    "import warnings #to remove the warnings\n",
    "warnings.filterwarnings('ignore')"
   ]
  },
  {
   "attachments": {},
   "cell_type": "markdown",
   "metadata": {},
   "source": [
    "Then we split data into training and testing, it will be 70% (1407) for training and 30%(604) for testing"
   ]
  },
  {
   "cell_type": "code",
   "execution_count": 109,
   "metadata": {},
   "outputs": [],
   "source": [
    "\n",
    "\n",
    "target= iris['Potability']\n",
    "data= iris[['ph','Hardness','Solids','Chloramines','Sulfate','Conductivity','Organic_carbon','Trihalomethanes','Turbidity']]\n",
    "\n",
    "X_train, X_test, y_train, y_test = train_test_split(data, target, test_size=0.30,random_state=0)"
   ]
  },
  {
   "cell_type": "code",
   "execution_count": 110,
   "metadata": {},
   "outputs": [
    {
     "name": "stdout",
     "output_type": "stream",
     "text": [
      "Number of training data 1407\n",
      "Number of testing data 604\n"
     ]
    }
   ],
   "source": [
    "print(\"Number of training data\" , len(y_train))\n",
    "\n",
    "print(\"Number of testing data\" , len(y_test))"
   ]
  },
  {
   "attachments": {},
   "cell_type": "markdown",
   "metadata": {},
   "source": [
    "Numeber of Potable (1) and not Potable (0) in training data"
   ]
  },
  {
   "cell_type": "code",
   "execution_count": 111,
   "metadata": {},
   "outputs": [
    {
     "data": {
      "text/plain": [
       "0    833\n",
       "1    574\n",
       "Name: Potability, dtype: int64"
      ]
     },
     "execution_count": 111,
     "metadata": {},
     "output_type": "execute_result"
    }
   ],
   "source": [
    "y_train.value_counts()"
   ]
  },
  {
   "attachments": {},
   "cell_type": "markdown",
   "metadata": {},
   "source": [
    "After that we build logistic regrssion classifer and fit the training data useing fit(), then we perform prediction on test set using predict()"
   ]
  },
  {
   "cell_type": "code",
   "execution_count": 112,
   "metadata": {},
   "outputs": [],
   "source": [
    "from sklearn.linear_model import LogisticRegression\n",
    "\n",
    "model = LogisticRegression()\n",
    "model.fit(X_train,y_train)\n",
    "y_pred=model.predict(X_test)\n"
   ]
  },
  {
   "cell_type": "code",
   "execution_count": 113,
   "metadata": {},
   "outputs": [
    {
     "data": {
      "text/plain": [
       "Text(0.5, 15.0, 'predicted label')"
      ]
     },
     "execution_count": 113,
     "metadata": {},
     "output_type": "execute_result"
    },
    {
     "data": {
      "image/png": "[encoded data removed]",
      "text/plain": [
       "<Figure size 432x288 with 2 Axes>"
      ]
     },
     "metadata": {
      "needs_background": "light"
     },
     "output_type": "display_data"
    }
   ],
   "source": [
    "import numpy as np\n",
    "import matplotlib.pyplot as plt\n",
    "import seaborn as sns\n",
    "from sklearn import metrics\n",
    "\n",
    "CNF_Matrix=metrics.confusion_matrix(y_test,y_pred)\n",
    "\n",
    "class_name=[0,1]\n",
    "fig, ax = plt.subplots()\n",
    "tick_mark=np.arange(len(class_name))\n",
    "plt.xticks(tick_mark,class_name)\n",
    "plt.yticks(tick_mark,class_name)\n",
    "\n",
    "sns.heatmap(pd.DataFrame(CNF_Matrix),annot=True,cmap=\"OrRd\",fmt='g')\n",
    "ax.xaxis.set_label_position(\"top\")\n",
    "plt.title('confusion matrix',y=1.1)\n",
    "plt.ylabel('actual label')\n",
    "plt.xlabel('predicted label')"
   ]
  },
  {
   "attachments": {},
   "cell_type": "markdown",
   "metadata": {},
   "source": [
    "TP= confusion matrix[1,1] ,\n",
    "TN= confusion matrix[0,0] ,\n",
    "FP= confusion matrix[0,1] ,\n",
    "FN= confusion matrix[1,0]\n",
    "\n",
    "\n",
    "As we can see here in confusion matrix we have TP=0, TN=366, FP=1 and FN=237"
   ]
  },
  {
   "attachments": {},
   "cell_type": "markdown",
   "metadata": {},
   "source": [
    "*Classification Report*\n",
    "\n",
    "We will then use the classification_report() method to generate a report for both the Potable and Not Potable values. This report shows us the precision and recall score again for the Potability values, and it also shows the scores in terms of the Not Potable values. This report also shows us the f1-score, which combines the precision and recall scores to measure the model's accuracy, and the support. (Note: We generated this report just for more information about our model; we will not use these values when visualizing or comparing).\n",
    "\n",
    "Here we obtain the report regarding the model where it has the precision that equals to 0.63 for the negative and 0.43 for the positive .Also , the recall is 0.61 for negative and 0.45 for positive.Along with the f1-score that is 0.62 for negative and 0.44 for positive .Lastly the support is 367 for negative and 237 for positive.Also , it shows the averages"
   ]
  },
  {
   "cell_type": "code",
   "execution_count": 114,
   "metadata": {},
   "outputs": [
    {
     "name": "stdout",
     "output_type": "stream",
     "text": [
      "              precision    recall  f1-score   support\n",
      "\n",
      "           0       0.61      1.00      0.75       367\n",
      "           1       0.00      0.00      0.00       237\n",
      "\n",
      "    accuracy                           0.61       604\n",
      "   macro avg       0.30      0.50      0.38       604\n",
      "weighted avg       0.37      0.61      0.46       604\n",
      "\n"
     ]
    }
   ],
   "source": [
    "from sklearn.metrics import classification_report\n",
    "\n",
    "print(classification_report(y_test, y_pred))"
   ]
  },
  {
   "cell_type": "code",
   "execution_count": 115,
   "metadata": {},
   "outputs": [
    {
     "name": "stdout",
     "output_type": "stream",
     "text": [
      "Accuracy 60.59602649006622\n",
      "precision 0.0\n",
      "Recall 0.0\n"
     ]
    }
   ],
   "source": [
    "print(\"Accuracy\",metrics.accuracy_score(y_test,y_pred)*100)\n",
    "print(\"precision\",metrics.precision_score(y_test,y_pred)*100)\n",
    "print(\"Recall\",metrics.recall_score(y_test,y_pred)*100)    \n",
    "#accuracyScore1, precisionScore1, recallscore1, specifity1\n",
    "accuracyScore1= metrics.accuracy_score(y_test,y_pred)\n",
    "precisionScore1=metrics.precision_score(y_test,y_pred)\n",
    "recallscore1=metrics.recall_score(y_test,y_pred)   "
   ]
  },
  {
   "attachments": {},
   "cell_type": "markdown",
   "metadata": {},
   "source": [
    "The accurcy of logistic regrssion classifer is equal to 60.59% , Precision and Recall 0"
   ]
  },
  {
   "cell_type": "code",
   "execution_count": 116,
   "metadata": {},
   "outputs": [
    {
     "data": {
      "image/png": "[encoded data removed]",
      "text/plain": [
       "<Figure size 432x288 with 1 Axes>"
      ]
     },
     "metadata": {
      "needs_background": "light"
     },
     "output_type": "display_data"
    }
   ],
   "source": [
    "import sklearn.metrics as metrics\n",
    "from matplotlib import pyplot as plt\n",
    "\n",
    "classifier_log = LogisticRegression().fit(X_train, y_train)\n",
    "probs = classifier_log.predict_proba(X_test)\n",
    "preds = probs[:,1]\n",
    "fpr, tpr, threshold = metrics.roc_curve(y_test, preds)\n",
    "roc_auc = metrics.auc(fpr, tpr)\n",
    "\n",
    "# polt AUC\n",
    "plt.plot(fpr, tpr, 'b', label = 'AUC = %0.2f' % roc_auc)\n",
    "plt.legend(loc = 'lower right')\n",
    "plt.plot([0, 1], [0, 1],'r--')\n",
    "plt.xlim([0, 1])\n",
    "plt.ylim([0, 1])\n",
    "plt.ylabel('True Positive Rate')\n",
    "plt.xlabel('False Positive Rate')\n",
    "plt.show()"
   ]
  },
  {
   "attachments": {},
   "cell_type": "markdown",
   "metadata": {},
   "source": [
    "The image obove is visualize ROC curve, which is represent the trade-off between sensitivity and specificity"
   ]
  },
  {
   "attachments": {},
   "cell_type": "markdown",
   "metadata": {},
   "source": [
    "**2.Decision Tree**"
   ]
  },
  {
   "attachments": {},
   "cell_type": "markdown",
   "metadata": {},
   "source": [
    "Decision tree methodology is a commonly used data mining method for establishing classification systems based on multiple covariates or for developing prediction algorithms for a target variable. This method classifies a population into branch-like segments that construct an inverted tree with a root node, internal nodes, and leaf nodes[source].\n",
    "\n",
    "[source]Song, Y.-Y. and Lu, Y. (2015) Decision tree methods: Applications for classification and prediction, Shanghai archives of psychiatry. U.S. National Library of Medicine. Available at: https://www.ncbi.nlm.nih.gov/pmc/articles/PMC4466856/ (Accessed: May 4, 2023). "
   ]
  },
  {
   "attachments": {},
   "cell_type": "markdown",
   "metadata": {},
   "source": [
    "In the first step, we will import the necessary libraries."
   ]
  },
  {
   "cell_type": "code",
   "execution_count": 117,
   "metadata": {},
   "outputs": [],
   "source": [
    "import pandas as pd\n",
    "from sklearn.model_selection import train_test_split\n",
    "from sklearn import tree\n",
    "import matplotlib.pyplot as plt"
   ]
  },
  {
   "attachments": {},
   "cell_type": "markdown",
   "metadata": {},
   "source": [
    "Then we will train the model using our dataset where we have splitted the dataset into two parts training and testing,\n",
    "it will be 70% (1407) for training and 30%(604) for testing"
   ]
  },
  {
   "cell_type": "code",
   "execution_count": 118,
   "metadata": {},
   "outputs": [
    {
     "name": "stdout",
     "output_type": "stream",
     "text": [
      "Number of training data 1407\n",
      "Number of testing data 604\n"
     ]
    }
   ],
   "source": [
    "target= iris['Potability']\n",
    "data= iris[['ph','Hardness','Solids','Chloramines','Sulfate','Conductivity','Organic_carbon','Trihalomethanes','Turbidity']]\n",
    "\n",
    "X_train, X_test, y_train, y_test = train_test_split(data, target, test_size=0.30,random_state=0)\n",
    "\n",
    "\n",
    "print(\"Number of training data\" , len(y_train))\n",
    "print(\"Number of testing data\" , len(y_test))"
   ]
  },
  {
   "attachments": {},
   "cell_type": "markdown",
   "metadata": {},
   "source": [
    "After that by using the tress library from sklearn library we implmented the decision tree classifer to train it."
   ]
  },
  {
   "cell_type": "code",
   "execution_count": 119,
   "metadata": {},
   "outputs": [],
   "source": [
    "model_tree = tree.DecisionTreeClassifier()\n",
    "model_tree.fit(X_train,y_train)\n",
    "y_pred=model_tree.predict(X_test)"
   ]
  },
  {
   "cell_type": "code",
   "execution_count": 120,
   "metadata": {},
   "outputs": [
    {
     "data": {
      "text/plain": [
       "Text(0.5, 15.0, 'predicted label')"
      ]
     },
     "execution_count": 120,
     "metadata": {},
     "output_type": "execute_result"
    },
    {
     "data": {
      "image/png": "[encoded data removed]",
      "text/plain": [
       "<Figure size 432x288 with 2 Axes>"
      ]
     },
     "metadata": {
      "needs_background": "light"
     },
     "output_type": "display_data"
    }
   ],
   "source": [
    "import numpy as np\n",
    "import matplotlib.pyplot as plt\n",
    "import seaborn as sns\n",
    "from sklearn import metrics\n",
    "\n",
    "CNF_Matrix=metrics.confusion_matrix(y_test,y_pred)\n",
    "\n",
    "class_name=[0,1]\n",
    "fig, ax = plt.subplots()\n",
    "tick_mark=np.arange(len(class_name))\n",
    "plt.xticks(tick_mark,class_name)\n",
    "plt.yticks(tick_mark,class_name)\n",
    "\n",
    "sns.heatmap(pd.DataFrame(CNF_Matrix),annot=True,cmap=\"OrRd\",fmt='g')\n",
    "ax.xaxis.set_label_position(\"top\")\n",
    "plt.title('confusion matrix',y=1.1)\n",
    "plt.ylabel('actual label')\n",
    "plt.xlabel('predicted label')"
   ]
  },
  {
   "attachments": {},
   "cell_type": "markdown",
   "metadata": {},
   "source": [
    "Here , we obtain the confusion matrix we obtain the results which are TN=231 , TP=110 , FN=127 , FP = 136  "
   ]
  },
  {
   "attachments": {},
   "cell_type": "markdown",
   "metadata": {},
   "source": [
    "*Classification Report*\n",
    "\n",
    "We will then use the classification_report() method to generate a report for both the Potable and Not Potable values. This report shows us the precision and recall score again for the Potability values, and it also shows the scores in terms of the Not Potable values. This report also shows us the f1-score, which combines the precision and recall scores to measure the model's accuracy, and the support. (Note: We generated this report just for more information about our model; we will not use these values when visualizing or comparing).\n",
    "\n",
    "Here we obtain the report regarding the model where it has the precision that equals to 0.65 for the negative and 0.45 for the positive .Also , the recall is 0.63 for negative and 0.46 for positive.Along with the f1-score that is 0.64 for negative and 0.46 for positive .Lastly the support is 367 for negative and 237 for positive.Also , it shows the averages"
   ]
  },
  {
   "cell_type": "code",
   "execution_count": 121,
   "metadata": {},
   "outputs": [
    {
     "name": "stdout",
     "output_type": "stream",
     "text": [
      "              precision    recall  f1-score   support\n",
      "\n",
      "           0       0.65      0.63      0.64       367\n",
      "           1       0.45      0.46      0.46       237\n",
      "\n",
      "    accuracy                           0.56       604\n",
      "   macro avg       0.55      0.55      0.55       604\n",
      "weighted avg       0.57      0.56      0.57       604\n",
      "\n"
     ]
    }
   ],
   "source": [
    "from sklearn.metrics import classification_report\n",
    "\n",
    "print(classification_report(y_test, y_pred))"
   ]
  },
  {
   "cell_type": "code",
   "execution_count": 122,
   "metadata": {},
   "outputs": [
    {
     "name": "stdout",
     "output_type": "stream",
     "text": [
      "Accuracy 56.456953642384114\n",
      "precision 44.71544715447154\n",
      "Recall 46.41350210970464\n"
     ]
    }
   ],
   "source": [
    "print(\"Accuracy\",metrics.accuracy_score(y_test,y_pred)*100)\n",
    "print(\"precision\",metrics.precision_score(y_test,y_pred)*100)\n",
    "print(\"Recall\",metrics.recall_score(y_test,y_pred)*100) \n",
    "\n",
    "accuracyScore2= metrics.accuracy_score(y_test,y_pred)\n",
    "precisionScore2=metrics.precision_score(y_test,y_pred)\n",
    "recallscore2=metrics.recall_score(y_test,y_pred) "
   ]
  },
  {
   "attachments": {},
   "cell_type": "markdown",
   "metadata": {},
   "source": [
    "Here we calculated the Accuracy of the model which is 56.95 and the Precision which is 45.14 and the Recall is 45.14."
   ]
  },
  {
   "cell_type": "code",
   "execution_count": 123,
   "metadata": {},
   "outputs": [
    {
     "data": {
      "image/png": "[encoded data removed]",
      "text/plain": [
       "<Figure size 432x288 with 1 Axes>"
      ]
     },
     "metadata": {
      "needs_background": "light"
     },
     "output_type": "display_data"
    }
   ],
   "source": [
    "import sklearn.metrics as metrics\n",
    "from matplotlib import pyplot as plt\n",
    "\n",
    "classifier_log = LogisticRegression().fit(X_train, y_train)\n",
    "probs = classifier_log.predict_proba(X_test)\n",
    "preds = probs[:,1]\n",
    "fpr, tpr, threshold = metrics.roc_curve(y_test, preds)\n",
    "roc_auc = metrics.auc(fpr, tpr)\n",
    "\n",
    "# polt AUC\n",
    "plt.plot(fpr, tpr, 'b', label = 'AUC = %0.2f' % roc_auc)\n",
    "plt.legend(loc = 'lower right')\n",
    "plt.plot([0, 1], [0, 1],'r--')\n",
    "plt.xlim([0, 1])\n",
    "plt.ylim([0, 1])\n",
    "plt.ylabel('True Positive Rate')\n",
    "plt.xlabel('False Positive Rate')\n",
    "plt.show()"
   ]
  },
  {
   "attachments": {},
   "cell_type": "markdown",
   "metadata": {},
   "source": [
    "The image obove is visualize ROC curve, which is represent the trade-off between sensitivity and specificity as the AUC is 0.50 and that indicates that the model did not classify the data set correctly."
   ]
  },
  {
   "attachments": {},
   "cell_type": "markdown",
   "metadata": {},
   "source": [
    "*Descsion tree visulization*\n",
    "\n",
    "Finally, the last step is to vizualize our tree and compare the reults. Firstly, we will visualize our decision tree using the plot_tree method from the 'matplotib' library. The visualization will be a plot tree that showcases the branching of our decision tree along with some information for each node.(note: we obtained that the tree appeard to be complecated and hard to read although we trained the model with the preprocessed dataset .It also shows how the DT reached to the results)"
   ]
  },
  {
   "cell_type": "code",
   "execution_count": 124,
   "metadata": {},
   "outputs": [
    {
     "data": {
      "image/png": "[encoded data removed]",
      "text/plain": [
       "<Figure size 864x576 with 1 Axes>"
      ]
     },
     "metadata": {
      "needs_background": "light"
     },
     "output_type": "display_data"
    }
   ],
   "source": [
    "from sklearn import tree\n",
    "from matplotlib import pyplot as plt\n",
    "\n",
    "#We will use this method to visualize our tree.\n",
    "fig = plt.figure(figsize=(12,8))\n",
    "_ = tree.plot_tree(model_tree, \n",
    "                   feature_names=X.columns,  \n",
    "                   class_names={0:'Potable', 1:'Not Potable'},\n",
    "                   filled=True,\n",
    "                  fontsize=8)\n"
   ]
  },
  {
   "attachments": {},
   "cell_type": "markdown",
   "metadata": {},
   "source": [
    "**SVM Classifier**"
   ]
  },
  {
   "attachments": {},
   "cell_type": "markdown",
   "metadata": {},
   "source": [
    "*Support Vector Machines* (SVMs in short) are supervised machine learning algorithms that are used for classification and regression purposes.SVMs are one of the powerful machine learning algorithms for classification, regression and outlier detection purposes. An SVM classifier builds a model that assigns new data points to one of the given categories. Thus, it can be viewed as a non-probabilistic binary linear classifier.[source]\n",
    "\n",
    "*Hyperplane*\n",
    "A hyperplane is a decision boundary which separates between given set of data points having different class labels. The SVM classifier separates data points using a hyperplane with the maximum amount of margin.\n",
    "\n",
    "*Support Vectors*\n",
    "Support vectors are the sample data points, which are closest to the hyperplane.\n",
    "\n",
    "\n",
    "*Margin*\n",
    "A margin is a separation gap between the two lines on the closest data points. It is calculated as the perpendicular distance from the line to support vectors or closest data points.\n",
    "\n",
    "\n",
    "[source]prashant111 (2020) SVM classifier tutorial, Kaggle. Available at: https://www.kaggle.com/code/prashant111/svm-classifier-tutorial (Accessed: 04 May 2023). \n"
   ]
  },
  {
   "attachments": {},
   "cell_type": "markdown",
   "metadata": {},
   "source": [
    "*Import libraries*\n",
    "\n",
    "We will import the needed libraries for classifing along with the Kfold libraries to preform cross folding."
   ]
  },
  {
   "cell_type": "code",
   "execution_count": 129,
   "metadata": {},
   "outputs": [],
   "source": [
    "# Improving SVM\n",
    "\n",
    "import numpy as np # linear algebra\n",
    "import pandas as pd # data processing, CSV file I/O (e.g. pd.read_csv)\n",
    "import matplotlib.pyplot as plt # for data visualization\n",
    "import seaborn as sns # for statistical data visualization\n",
    "%matplotlib inline\n",
    "\n",
    "# to create k folds of data and get cross validation score\n",
    "from sklearn.model_selection import KFold\n",
    "from sklearn.model_selection import cross_val_score\n",
    "\n",
    "\n",
    "import warnings\n",
    "\n",
    "warnings.filterwarnings('ignore')\n",
    "\n",
    "\n",
    "\n",
    "\n"
   ]
  },
  {
   "attachments": {},
   "cell_type": "markdown",
   "metadata": {},
   "source": [
    "Exploring the dataset before training the SVM model."
   ]
  },
  {
   "cell_type": "code",
   "execution_count": 130,
   "metadata": {},
   "outputs": [
    {
     "name": "stdout",
     "output_type": "stream",
     "text": [
      "<class 'pandas.core.frame.DataFrame'>\n",
      "Int64Index: 2011 entries, 3 to 3271\n",
      "Data columns (total 10 columns):\n",
      " #   Column           Non-Null Count  Dtype   \n",
      "---  ------           --------------  -----   \n",
      " 0   ph               2011 non-null   category\n",
      " 1   Hardness         2011 non-null   category\n",
      " 2   Solids           2011 non-null   category\n",
      " 3   Chloramines      2011 non-null   category\n",
      " 4   Sulfate          2011 non-null   category\n",
      " 5   Conductivity     2011 non-null   category\n",
      " 6   Organic_carbon   2011 non-null   category\n",
      " 7   Trihalomethanes  2011 non-null   category\n",
      " 8   Turbidity        2011 non-null   category\n",
      " 9   Potability       2011 non-null   int64   \n",
      "dtypes: category(9), int64(1)\n",
      "memory usage: 50.3 KB\n"
     ]
    }
   ],
   "source": [
    "\n",
    "#What are the value counts after the data preprocessing \n",
    "iris['Potability'].value_counts()\n",
    "#Getting the information about the dataset\n",
    "iris.info()"
   ]
  },
  {
   "attachments": {},
   "cell_type": "markdown",
   "metadata": {},
   "source": [
    "*Training the model*\n",
    "\n",
    "Here we will start training the model first by dropping the class label which in our case is Potability attribute."
   ]
  },
  {
   "cell_type": "code",
   "execution_count": 131,
   "metadata": {},
   "outputs": [],
   "source": [
    "# Dropping the class label\n",
    "X = iris.drop(['Potability'], axis=1)\n",
    "\n",
    "y = iris['Potability']"
   ]
  },
  {
   "attachments": {},
   "cell_type": "markdown",
   "metadata": {},
   "source": [
    "Here we splitted the dataset into two parts : Traing and Testing ."
   ]
  },
  {
   "cell_type": "code",
   "execution_count": 132,
   "metadata": {},
   "outputs": [],
   "source": [
    "# split X and y into training and testing sets\n",
    "\n",
    "from sklearn.model_selection import train_test_split\n",
    "\n",
    "X_train, X_test, y_train, y_test = train_test_split(X, y, test_size = 0.2, random_state = 1,stratify=y)"
   ]
  },
  {
   "attachments": {},
   "cell_type": "markdown",
   "metadata": {},
   "source": [
    "Here we defined a variable kfold to preform the cross folding and choose the k to be 10."
   ]
  },
  {
   "cell_type": "code",
   "execution_count": 133,
   "metadata": {},
   "outputs": [],
   "source": [
    "# defining kfold\n",
    "kfold = KFold(n_splits=10, random_state=1, shuffle = True)\n",
    "\n",
    "# number of splits = 10\n"
   ]
  },
  {
   "attachments": {},
   "cell_type": "markdown",
   "metadata": {},
   "source": [
    "After that we imported the SVM library and the specific type SVC library and accuracy score library. Moreover, we train the model using our dataset afte we did the preprocessing as it shown below."
   ]
  },
  {
   "cell_type": "code",
   "execution_count": 134,
   "metadata": {},
   "outputs": [],
   "source": [
    "# import SVC classifier\n",
    "from sklearn import svm\n",
    "from sklearn.svm import SVC\n",
    "\n",
    "# import metrics to compute accuracy\n",
    "from sklearn.metrics import accuracy_score\n",
    "\n",
    "model_svm = svm.SVC(kernel='linear', C=1, probability=True).fit(X_train,y_train)\n",
    "\n",
    "y_pred=model_svm.predict(X_test)\n",
    "results = cross_val_score(model_svm, X_train, y_train, cv=kfold, scoring='accuracy')\n"
   ]
  },
  {
   "attachments": {},
   "cell_type": "markdown",
   "metadata": {},
   "source": [
    "Here we calculated the Accuracy equals to 59.55 and Precision equals to 0 and Recall equals to 0."
   ]
  },
  {
   "cell_type": "code",
   "execution_count": 135,
   "metadata": {},
   "outputs": [
    {
     "name": "stdout",
     "output_type": "stream",
     "text": [
      "Accuracy 59.553349875930515\n",
      "precision 0.0\n",
      "Recall 0.0\n"
     ]
    }
   ],
   "source": [
    "import seaborn as sns\n",
    "from sklearn import metrics\n",
    "print(\"Accuracy\",metrics.accuracy_score(y_test,y_pred)*100)\n",
    "print(\"precision\",metrics.precision_score(y_test,y_pred)*100)\n",
    "print(\"Recall\",metrics.recall_score(y_test,y_pred)*100)  \n",
    "\n",
    "accuracyScore3= metrics.accuracy_score(y_test,y_pred)\n",
    "precisionScore3=metrics.precision_score(y_test,y_pred)\n",
    "recallscore3=metrics.recall_score(y_test,y_pred)"
   ]
  },
  {
   "attachments": {},
   "cell_type": "markdown",
   "metadata": {},
   "source": [
    "Here we preformed the 10 fold cross-validation and printed the results we hoped it will improve the resultes but as it shows the best accuracy can gets is 0.627 and 62.7% it has improved yet it is still low."
   ]
  },
  {
   "cell_type": "code",
   "execution_count": 136,
   "metadata": {},
   "outputs": [
    {
     "name": "stdout",
     "output_type": "stream",
     "text": [
      "\n",
      "10-fold cross-validation:\n",
      "[0.62111801 0.60869565 0.59627329 0.57142857 0.62732919 0.54658385\n",
      " 0.55279503 0.59006211 0.61875    0.6375    ]\n"
     ]
    }
   ],
   "source": [
    "#do a 10 fold cross-validation \n",
    "results_svm = cross_val_score(model_svm, X_train,y_train, cv=kfold,scoring='accuracy')\n",
    "print(\"\\n10-fold cross-validation:\")\n",
    "print(results_svm)"
   ]
  },
  {
   "attachments": {},
   "cell_type": "markdown",
   "metadata": {},
   "source": [
    "Here We implement the confusion matrix and obtaind the results which are 240 true negative and 163 are false neagtive and the true positive and false positive are both 0."
   ]
  },
  {
   "cell_type": "code",
   "execution_count": 137,
   "metadata": {},
   "outputs": [
    {
     "data": {
      "text/plain": [
       "Text(0.5, 15.0, 'predicted label')"
      ]
     },
     "execution_count": 137,
     "metadata": {},
     "output_type": "execute_result"
    },
    {
     "data": {
      "image/png": "[encoded data removed]",
      "text/plain": [
       "<Figure size 432x288 with 2 Axes>"
      ]
     },
     "metadata": {
      "needs_background": "light"
     },
     "output_type": "display_data"
    }
   ],
   "source": [
    "# visualize confusion matrix with seaborn heatmap\n",
    "\n",
    "import numpy as np\n",
    "import matplotlib.pyplot as plt\n",
    "import seaborn as sns\n",
    "from sklearn import metrics\n",
    "\n",
    "CNF_Matrix=metrics.confusion_matrix(y_test,y_pred)\n",
    "\n",
    "class_name=[0,1]\n",
    "fig, ax = plt.subplots()\n",
    "tick_mark=np.arange(len(class_name))\n",
    "plt.xticks(tick_mark,class_name)\n",
    "plt.yticks(tick_mark,class_name)\n",
    "\n",
    "sns.heatmap(pd.DataFrame(CNF_Matrix),annot=True,cmap=\"OrRd\",fmt='g')\n",
    "ax.xaxis.set_label_position(\"top\")\n",
    "plt.title('confusion matrix',y=1.1)\n",
    "plt.ylabel('actual label')\n",
    "plt.xlabel('predicted label')"
   ]
  },
  {
   "attachments": {},
   "cell_type": "markdown",
   "metadata": {},
   "source": [
    "*Classification Report*\n",
    "\n",
    "We will then use the classification_report() method to generate a report for both the Potable and Not Potable values. This report shows us the precision and recall score again for the Potability values, and it also shows the scores in terms of the Not Potable values. This report also shows us the f1-score, which combines the precision and recall scores to measure the model's accuracy, and the support. (Note: We generated this report just for more information about our model; we will not use these values when visualizing or comparing).\n",
    "\n",
    "Here we obtain the report regarding the model where it has the precision that equals to 0.60 for the negative and 0 for the positive .Also , the recall is 1 for negative and 0 for positive.Along with the f1-score that is 0.75 for negative and 0 for positive .Lastly the support is 240 for negative and 163 for positive.Also , it shows the averages"
   ]
  },
  {
   "cell_type": "code",
   "execution_count": 138,
   "metadata": {},
   "outputs": [
    {
     "name": "stdout",
     "output_type": "stream",
     "text": [
      "              precision    recall  f1-score   support\n",
      "\n",
      "           0       0.60      1.00      0.75       240\n",
      "           1       0.00      0.00      0.00       163\n",
      "\n",
      "    accuracy                           0.60       403\n",
      "   macro avg       0.30      0.50      0.37       403\n",
      "weighted avg       0.35      0.60      0.44       403\n",
      "\n"
     ]
    }
   ],
   "source": [
    "from sklearn.metrics import classification_report\n",
    "\n",
    "print(classification_report(y_test, y_pred))"
   ]
  },
  {
   "attachments": {},
   "cell_type": "markdown",
   "metadata": {},
   "source": [
    "In the ROC Curve below the line is stright and parallel to the curve therefore it shows that the model is not predecting and not knowing the dataset right .And this result occurs from the values that are in  the dataset where they are unclear!"
   ]
  },
  {
   "cell_type": "code",
   "execution_count": 139,
   "metadata": {},
   "outputs": [
    {
     "data": {
      "image/png": "[encoded data removed]",
      "text/plain": [
       "<Figure size 432x288 with 1 Axes>"
      ]
     },
     "metadata": {
      "needs_background": "light"
     },
     "output_type": "display_data"
    }
   ],
   "source": [
    "# plot ROC Curve\n",
    "\n",
    "from sklearn.metrics import roc_curve\n",
    "\n",
    "fpr, tpr, thresholds = roc_curve(y_test, y_pred)\n",
    "\n",
    "plt.figure(figsize=(6,4))\n",
    "\n",
    "plt.plot(fpr, tpr, linewidth=2)\n",
    "\n",
    "plt.plot([0,1], [0,1], 'k--' )\n",
    "\n",
    "plt.rcParams['font.size'] = 12\n",
    "\n",
    "plt.title('ROC curve for Predicting a Pulsar Star classifier')\n",
    "\n",
    "plt.xlabel('False Positive Rate (1 - Specificity)')\n",
    "\n",
    "plt.ylabel('True Positive Rate (Sensitivity)')\n",
    "\n",
    "plt.show()"
   ]
  },
  {
   "attachments": {},
   "cell_type": "markdown",
   "metadata": {},
   "source": [
    "# comparison\n",
    "--------------------------------------------------------------------------------------------------------------------------------"
   ]
  },
  {
   "attachments": {},
   "cell_type": "markdown",
   "metadata": {},
   "source": [
    "As we can see in the three supervised learning methods, namely:\n",
    "1. Logistic Regression \n",
    "2. Decision Tree \n",
    "3. SVM Classifier\n",
    "\n",
    "\n",
    "The accuracy values are close and tend to be low in all three methods. After the research, it was discovered that the problem is related to our data set.\n",
    "\n",
    "As mentioned above, we see that the accuracy value in \n",
    "\n",
    "Logistic Regression is 60.59, \n",
    "\n",
    "Decision Tree is 56.45, \n",
    "\n",
    "and the SVM is 59.7.\n",
    "\n",
    "--------------------------------------------------------------\n",
    "\n",
    " From the list of accuracy we obtained, we conclude that Logistic Regression is the best in accuracy because it has the largest value.\n",
    "\n",
    "\n",
    "As for the Recall of \n",
    "\n",
    "Logistic Regression it is 0.0,\n",
    "\n",
    " Decision Tree is 46.41,\n",
    "\n",
    "  and SVM is 0.0\n",
    "\n",
    "--------------------------------------------------------------\n",
    "\n",
    "Thus, we conclude that the Decision Tree  has  better recall as it has the highest value\n",
    "\n",
    "\n",
    "As for the Precision of \n",
    "\n",
    "Logistic Regression it is 0.0, \n",
    "\n",
    "Decision Tree is 44.71, \n",
    "\n",
    "and SVM is 0.0\n",
    "\n",
    "Therefore, we figure that the Decision Tree has better Precision as it holds the highest value\n"
   ]
  },
  {
   "attachments": {},
   "cell_type": "markdown",
   "metadata": {},
   "source": [
    "**Visualization**"
   ]
  },
  {
   "attachments": {},
   "cell_type": "markdown",
   "metadata": {},
   "source": [
    "*Model comparision* \n",
    "\n",
    "--------------------------------------------------------------\n",
    "\n",
    "In visualization below we can obtain that the three models gives a close results regarding the Acccuracy and Precision and Recall Score .From that we obtain that the dataset was unclaer to the models to train from and enven we have used a cross folding methods and we did the preprossing for our data set it is still gives a bad results.But , Among the models for our data set the Decision Tree model gave us the best results among the three models. "
   ]
  },
  {
   "cell_type": "code",
   "execution_count": 140,
   "metadata": {},
   "outputs": [
    {
     "data": {
      "image/png": "[encoded data removed]",
      "text/plain": [
       "<Figure size 432x288 with 1 Axes>"
      ]
     },
     "metadata": {
      "needs_background": "light"
     },
     "output_type": "display_data"
    }
   ],
   "source": [
    "# data from https://allisonhorst.github.io/palmerpenguins/\n",
    "\n",
    "compare = (\"Accuracy\", \"Precision\", \"Recall Score\")\n",
    "models = {\n",
    "    'Decision Tree': (accuracyScore2, precisionScore2, recallscore2),\n",
    "    'Logistic Regression': (accuracyScore1, precisionScore1, recallscore1),\n",
    "    'SVM ':(accuracyScore3, precisionScore3, recallscore3)\n",
    "}\n",
    "\n",
    "x = np.arange(len(compare))  # the label locations\n",
    "width = 0.25  # the width of the bars\n",
    "multiplier = 0\n",
    "\n",
    "fig, ax = plt.subplots(layout='constrained')\n",
    "\n",
    "for attribute, measurement in models.items():\n",
    "    offset = width * multiplier\n",
    "    rects = ax.bar(x + offset, measurement, width, label=attribute)\n",
    "    ax.bar_label(rects, padding=3)\n",
    "    multiplier += 1\n",
    "\n",
    "# Add some text for labels, title and custom x-axis tick labels, etc.\n",
    "ax.set_ylabel('Percentage')\n",
    "ax.set_title('Models comparision')\n",
    "ax.set_xticks(x + width, compare)\n",
    "ax.legend(loc='upper left', ncol=3)\n",
    "ax.set_ylim(0, 2)\n",
    "\n",
    "plt.show()"
   ]
  }
 ],
 "metadata": {
  "kernelspec": {
   "display_name": "base",
   "language": "python",
   "name": "python3"
  },
  "language_info": {
   "codemirror_mode": {
    "name": "ipython",
    "version": 3
   },
   "file_extension": ".py",
   "mimetype": "text/x-python",
   "name": "python",
   "nbconvert_exporter": "python",
   "pygments_lexer": "ipython3",
   "version": "3.9.2"
  },
  "orig_nbformat": 4,
  "vscode": {
   "interpreter": {
    "hash": "324cc86490538264521e3503acc1d5d7e0dce347f8aa35ef0da6252e46b94c1c"
   }
  }
 },
 "nbformat": 4,
 "nbformat_minor": 2
}
