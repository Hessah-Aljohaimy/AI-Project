{
 "cells": [
  {
   "attachments": {},
   "cell_type": "markdown",
   "metadata": {},
   "source": [
    "# Phase2: supervised learning"
   ]
  },
  {
   "attachments": {},
   "cell_type": "markdown",
   "metadata": {},
   "source": [
    "**1. Logistic regression**\n",
    "\n",
    "\n",
    "\n",
    "Logistic regression, also referred to as a logit model, is a statistical model commonly applied for predictive analytics and classification purposes. It predicts the likelihood of an event happening, such as voting or not voting, from a set of independent variables in a given dataset.[Source]\n",
    "\n",
    " \n",
    "[Source]What is logistic regression? (no date) IBM. Available at: https://www.ibm.com/topics/logistic-regression#:~:text=Resources-,What%20is%20logistic%20regression%3F,given%20dataset%20of%20independent%20variables. (Accessed: 10 May 2023).\n",
    "\n",
    "\n",
    "\n",
    "\n",
    "\n",
    "\n",
    "\n",
    "First step we import libraries"
   ]
  },
  {
   "cell_type": "code",
   "execution_count": 147,
   "metadata": {},
   "outputs": [],
   "source": [
    "from sklearn.model_selection import train_test_split\n",
    "import pandas as pd\n",
    "import pandas as pd\n",
    "from sklearn.model_selection import train_test_split\n",
    "%matplotlib inline\n",
    "import warnings #to remove the warnings\n",
    "warnings.filterwarnings('ignore')\n",
    "iris =pd.read_csv('C:\\AI-Project\\Dataset\\waterQualityCleaned.csv')"
   ]
  },
  {
   "attachments": {},
   "cell_type": "markdown",
   "metadata": {},
   "source": [
    "Then we split data into training and testing, it will be 70% (1407) for training and 30%(604) for testing"
   ]
  },
  {
   "cell_type": "code",
   "execution_count": 148,
   "metadata": {},
   "outputs": [],
   "source": [
    "target= iris['Potability']\n",
    "data= iris[['ph','Hardness','Solids','Chloramines','Sulfate','Conductivity','Organic_carbon','Trihalomethanes','Turbidity']]\n",
    "\n",
    "X_train, X_test, y_train, y_test = train_test_split(data, target, test_size=0.30,random_state=0)"
   ]
  },
  {
   "cell_type": "code",
   "execution_count": 149,
   "metadata": {},
   "outputs": [
    {
     "name": "stdout",
     "output_type": "stream",
     "text": [
      "Number of training data 1407\n",
      "Number of testing data 604\n"
     ]
    }
   ],
   "source": [
    "print(\"Number of training data\" , len(y_train))\n",
    "\n",
    "print(\"Number of testing data\" , len(y_test))"
   ]
  },
  {
   "attachments": {},
   "cell_type": "markdown",
   "metadata": {},
   "source": [
    "Numeber of Potable (1) and not Potable (0) in training data"
   ]
  },
  {
   "cell_type": "code",
   "execution_count": 150,
   "metadata": {},
   "outputs": [
    {
     "data": {
      "text/plain": [
       "Potability\n",
       "0    833\n",
       "1    574\n",
       "Name: count, dtype: int64"
      ]
     },
     "execution_count": 150,
     "metadata": {},
     "output_type": "execute_result"
    }
   ],
   "source": [
    "y_train.value_counts()"
   ]
  },
  {
   "attachments": {},
   "cell_type": "markdown",
   "metadata": {},
   "source": [
    "After that we build logistic regrssion classifer and fit the training data useing fit(), then we perform prediction on test set using predict()"
   ]
  },
  {
   "cell_type": "code",
   "execution_count": 151,
   "metadata": {},
   "outputs": [],
   "source": [
    "from sklearn.linear_model import LogisticRegression\n",
    "\n",
    "model = LogisticRegression()\n",
    "model.fit(X_train,y_train)\n",
    "y_pred=model.predict(X_test)\n"
   ]
  },
  {
   "cell_type": "code",
   "execution_count": 152,
   "metadata": {},
   "outputs": [
    {
     "data": {
      "text/plain": [
       "Text(0.5, 23.52222222222222, 'predicted label')"
      ]
     },
     "execution_count": 152,
     "metadata": {},
     "output_type": "execute_result"
    },
    {
     "data": {
      "image/png": "[encoded data removed]",
      "text/plain": [
       "<Figure size 640x480 with 2 Axes>"
      ]
     },
     "metadata": {},
     "output_type": "display_data"
    }
   ],
   "source": [
    "import numpy as np\n",
    "import matplotlib.pyplot as plt\n",
    "import seaborn as sns\n",
    "from sklearn import metrics\n",
    "\n",
    "CNF_Matrix=metrics.confusion_matrix(y_test,y_pred)\n",
    "\n",
    "class_name=[0,1]\n",
    "fig, ax = plt.subplots()\n",
    "tick_mark=np.arange(len(class_name))\n",
    "plt.xticks(tick_mark,class_name)\n",
    "plt.yticks(tick_mark,class_name)\n",
    "\n",
    "sns.heatmap(pd.DataFrame(CNF_Matrix),annot=True,cmap=\"OrRd\",fmt='g')\n",
    "ax.xaxis.set_label_position(\"top\")\n",
    "plt.title('confusion matrix',y=1.1)\n",
    "plt.ylabel('actual label')\n",
    "plt.xlabel('predicted label')"
   ]
  },
  {
   "attachments": {},
   "cell_type": "markdown",
   "metadata": {},
   "source": [
    "TP= confusion matrix[1,1] ,\n",
    "TN= confusion matrix[0,0] ,\n",
    "FP= confusion matrix[0,1] ,\n",
    "FN= confusion matrix[1,0]\n",
    "\n",
    "\n",
    "As we can see here in confusion matrix we have TP=0, TN=366, FP=1 and FN=237"
   ]
  },
  {
   "attachments": {},
   "cell_type": "markdown",
   "metadata": {},
   "source": [
    "*Classification Report*\n",
    "\n",
    "We will then use the classification_report() method to generate a report for both the Potable and Not Potable values. This report shows us the precision and recall score again for the Potability values, and it also shows the scores in terms of the Not Potable values. This report also shows us the f1-score, which combines the precision and recall scores to measure the model's accuracy, and the support. (Note: We generated this report just for more information about our model; we will not use these values when visualizing or comparing).\n",
    "\n",
    "Here we obtain the report regarding the model where it has the precision that equals to 0.61 for the negative and 0 for the positive .Also , the recall is 1 for negative and 0 for positive.Along with the f1-score that is 0.75 for negative and 0 for positive .Lastly the support is 367 for negative and 237 for positive.Also , it shows the averages"
   ]
  },
  {
   "cell_type": "code",
   "execution_count": 153,
   "metadata": {},
   "outputs": [
    {
     "name": "stdout",
     "output_type": "stream",
     "text": [
      "              precision    recall  f1-score   support\n",
      "\n",
      "           0       0.61      1.00      0.75       367\n",
      "           1       0.00      0.00      0.00       237\n",
      "\n",
      "    accuracy                           0.61       604\n",
      "   macro avg       0.30      0.50      0.38       604\n",
      "weighted avg       0.37      0.61      0.46       604\n",
      "\n"
     ]
    }
   ],
   "source": [
    "from sklearn.metrics import classification_report\n",
    "\n",
    "print(classification_report(y_test, y_pred))"
   ]
  },
  {
   "cell_type": "code",
   "execution_count": 154,
   "metadata": {},
   "outputs": [
    {
     "name": "stdout",
     "output_type": "stream",
     "text": [
      "Accuracy 60.59602649006622\n",
      "precision 0.0\n",
      "Recall 0.0\n"
     ]
    }
   ],
   "source": [
    "print(\"Accuracy\",metrics.accuracy_score(y_test,y_pred)*100)\n",
    "print(\"precision\",metrics.precision_score(y_test,y_pred)*100)\n",
    "print(\"Recall\",metrics.recall_score(y_test,y_pred)*100)    \n",
    "#accuracyScore1, precisionScore1, recallscore1, specifity1\n",
    "accuracyScore1= metrics.accuracy_score(y_test,y_pred)\n",
    "precisionScore1=metrics.precision_score(y_test,y_pred)\n",
    "recallscore1=metrics.recall_score(y_test,y_pred)   "
   ]
  },
  {
   "attachments": {},
   "cell_type": "markdown",
   "metadata": {},
   "source": [
    "The accurcy of logistic regrssion classifer is equal to 60.59% , Precision and Recall 0"
   ]
  },
  {
   "cell_type": "code",
   "execution_count": 155,
   "metadata": {},
   "outputs": [
    {
     "data": {
      "image/png": "[encoded data removed]",
      "text/plain": [
       "<Figure size 640x480 with 1 Axes>"
      ]
     },
     "metadata": {},
     "output_type": "display_data"
    }
   ],
   "source": [
    "import sklearn.metrics as metrics\n",
    "from matplotlib import pyplot as plt\n",
    "\n",
    "classifier_log = LogisticRegression().fit(X_train, y_train)\n",
    "probs = classifier_log.predict_proba(X_test)\n",
    "preds = probs[:,1]\n",
    "fpr, tpr, threshold = metrics.roc_curve(y_test, preds)\n",
    "roc_auc = metrics.auc(fpr, tpr)\n",
    "\n",
    "# polt AUC\n",
    "plt.plot(fpr, tpr, 'b', label = 'AUC = %0.2f' % roc_auc)\n",
    "plt.legend(loc = 'lower right')\n",
    "plt.plot([0, 1], [0, 1],'r--')\n",
    "plt.xlim([0, 1])\n",
    "plt.ylim([0, 1])\n",
    "plt.ylabel('True Positive Rate')\n",
    "plt.xlabel('False Positive Rate')\n",
    "plt.show()"
   ]
  },
  {
   "attachments": {},
   "cell_type": "markdown",
   "metadata": {},
   "source": [
    "The image obove is visualize ROC curve, which is represent the trade-off between sensitivity and specificity"
   ]
  },
  {
   "attachments": {},
   "cell_type": "markdown",
   "metadata": {},
   "source": [
    "**2.Decision Tree**\n",
    "\n",
    "Decision tree methodology is a commonly used data mining method for establishing classification systems based on multiple covariates or for developing prediction algorithms for a target variable. This method classifies a population into branch-like segments that construct an inverted tree with a root node, internal nodes, and leaf nodes[source].\n",
    "\n",
    "[source]Song, Y.-Y. and Lu, Y. (2015) Decision tree methods: Applications for classification and prediction, Shanghai archives of psychiatry. U.S. National Library of Medicine. Available at: https://www.ncbi.nlm.nih.gov/pmc/articles/PMC4466856/ (Accessed: May 4, 2023). "
   ]
  },
  {
   "attachments": {},
   "cell_type": "markdown",
   "metadata": {},
   "source": [
    "In the first step, we will import the necessary libraries."
   ]
  },
  {
   "cell_type": "code",
   "execution_count": 156,
   "metadata": {},
   "outputs": [],
   "source": [
    "import pandas as pd\n",
    "from sklearn.model_selection import train_test_split\n",
    "from sklearn import tree\n",
    "import matplotlib.pyplot as plt"
   ]
  },
  {
   "attachments": {},
   "cell_type": "markdown",
   "metadata": {},
   "source": [
    "Then we will train the model using our dataset where we have splitted the dataset into two parts training and testing,\n",
    "it will be 70% (1407) for training and 30%(604) for testing"
   ]
  },
  {
   "cell_type": "code",
   "execution_count": 157,
   "metadata": {},
   "outputs": [
    {
     "name": "stdout",
     "output_type": "stream",
     "text": [
      "Number of training data 1407\n",
      "Number of testing data 604\n"
     ]
    }
   ],
   "source": [
    "target= iris['Potability']\n",
    "data= iris[['ph','Hardness','Solids','Chloramines','Sulfate','Conductivity','Organic_carbon','Trihalomethanes','Turbidity']]\n",
    "\n",
    "X_train, X_test, y_train, y_test = train_test_split(data, target, test_size=0.30,random_state=0)\n",
    "\n",
    "\n",
    "print(\"Number of training data\" , len(y_train))\n",
    "print(\"Number of testing data\" , len(y_test))"
   ]
  },
  {
   "attachments": {},
   "cell_type": "markdown",
   "metadata": {},
   "source": [
    "After that by using the tress library from sklearn library we implmented the decision tree classifer to train it."
   ]
  },
  {
   "cell_type": "code",
   "execution_count": 158,
   "metadata": {},
   "outputs": [],
   "source": [
    "model_tree = tree.DecisionTreeClassifier()\n",
    "model_tree.fit(X_train,y_train)\n",
    "y_pred=model_tree.predict(X_test)"
   ]
  },
  {
   "cell_type": "code",
   "execution_count": 159,
   "metadata": {},
   "outputs": [
    {
     "data": {
      "text/plain": [
       "Text(0.5, 23.52222222222222, 'predicted label')"
      ]
     },
     "execution_count": 159,
     "metadata": {},
     "output_type": "execute_result"
    },
    {
     "data": {
      "image/png": "[encoded data removed]",
      "text/plain": [
       "<Figure size 640x480 with 2 Axes>"
      ]
     },
     "metadata": {},
     "output_type": "display_data"
    }
   ],
   "source": [
    "import numpy as np\n",
    "import matplotlib.pyplot as plt\n",
    "import seaborn as sns\n",
    "from sklearn import metrics\n",
    "\n",
    "CNF_Matrix=metrics.confusion_matrix(y_test,y_pred)\n",
    "\n",
    "class_name=[0,1]\n",
    "fig, ax = plt.subplots()\n",
    "tick_mark=np.arange(len(class_name))\n",
    "plt.xticks(tick_mark,class_name)\n",
    "plt.yticks(tick_mark,class_name)\n",
    "\n",
    "sns.heatmap(pd.DataFrame(CNF_Matrix),annot=True,cmap=\"OrRd\",fmt='g')\n",
    "ax.xaxis.set_label_position(\"top\")\n",
    "plt.title('confusion matrix',y=1.1)\n",
    "plt.ylabel('actual label')\n",
    "plt.xlabel('predicted label')"
   ]
  },
  {
   "attachments": {},
   "cell_type": "markdown",
   "metadata": {},
   "source": [
    "Here , we obtain the confusion matrix we obtain the results which are TN=231 , TP=110 , FN=127 , FP = 136  "
   ]
  },
  {
   "attachments": {},
   "cell_type": "markdown",
   "metadata": {},
   "source": [
    "*Classification Report*\n",
    "\n",
    "We will then use the classification_report() method to generate a report for both the Potable and Not Potable values. This report shows us the precision and recall score again for the Potability values, and it also shows the scores in terms of the Not Potable values. This report also shows us the f1-score, which combines the precision and recall scores to measure the model's accuracy, and the support. (Note: We generated this report just for more information about our model; we will not use these values when visualizing or comparing).\n",
    "\n",
    "Here we obtain the report regarding the model where it has the precision that equals to 0.65 for the negative and 0.45 for the positive .Also , the recall is 0.63 for negative and 0.46 for positive.Along with the f1-score that is 0.64 for negative and 0.46 for positive .Lastly the support is 367 for negative and 237 for positive.Also , it shows the averages"
   ]
  },
  {
   "cell_type": "code",
   "execution_count": 160,
   "metadata": {},
   "outputs": [
    {
     "name": "stdout",
     "output_type": "stream",
     "text": [
      "              precision    recall  f1-score   support\n",
      "\n",
      "           0       0.65      0.63      0.64       367\n",
      "           1       0.45      0.46      0.46       237\n",
      "\n",
      "    accuracy                           0.56       604\n",
      "   macro avg       0.55      0.55      0.55       604\n",
      "weighted avg       0.57      0.56      0.57       604\n",
      "\n"
     ]
    }
   ],
   "source": [
    "from sklearn.metrics import classification_report\n",
    "\n",
    "print(classification_report(y_test, y_pred))"
   ]
  },
  {
   "cell_type": "code",
   "execution_count": 161,
   "metadata": {},
   "outputs": [
    {
     "name": "stdout",
     "output_type": "stream",
     "text": [
      "Accuracy 56.456953642384114\n",
      "precision 44.71544715447154\n",
      "Recall 46.41350210970464\n"
     ]
    }
   ],
   "source": [
    "print(\"Accuracy\",metrics.accuracy_score(y_test,y_pred)*100)\n",
    "print(\"precision\",metrics.precision_score(y_test,y_pred)*100)\n",
    "print(\"Recall\",metrics.recall_score(y_test,y_pred)*100) \n",
    "\n",
    "accuracyScore2= metrics.accuracy_score(y_test,y_pred)\n",
    "precisionScore2=metrics.precision_score(y_test,y_pred)\n",
    "recallscore2=metrics.recall_score(y_test,y_pred) "
   ]
  },
  {
   "attachments": {},
   "cell_type": "markdown",
   "metadata": {},
   "source": [
    "Here we calculated the Accuracy of the model which is 56.45 and the Precision which is 44.71 and the Recall is 46.41.\n"
   ]
  },
  {
   "cell_type": "code",
   "execution_count": 162,
   "metadata": {},
   "outputs": [
    {
     "data": {
      "image/png": "[encoded data removed]",
      "text/plain": [
       "<Figure size 640x480 with 1 Axes>"
      ]
     },
     "metadata": {},
     "output_type": "display_data"
    }
   ],
   "source": [
    "import sklearn.metrics as metrics\n",
    "from matplotlib import pyplot as plt\n",
    "\n",
    "classifier_log = LogisticRegression().fit(X_train, y_train)\n",
    "probs = classifier_log.predict_proba(X_test)\n",
    "preds = probs[:,1]\n",
    "fpr, tpr, threshold = metrics.roc_curve(y_test, preds)\n",
    "roc_auc = metrics.auc(fpr, tpr)\n",
    "\n",
    "# polt AUC\n",
    "plt.plot(fpr, tpr, 'b', label = 'AUC = %0.2f' % roc_auc)\n",
    "plt.legend(loc = 'lower right')\n",
    "plt.plot([0, 1], [0, 1],'r--')\n",
    "plt.xlim([0, 1])\n",
    "plt.ylim([0, 1])\n",
    "plt.ylabel('True Positive Rate')\n",
    "plt.xlabel('False Positive Rate')\n",
    "plt.show()"
   ]
  },
  {
   "attachments": {},
   "cell_type": "markdown",
   "metadata": {},
   "source": [
    "The image obove is visualize ROC curve, which is represent the trade-off between sensitivity and specificity as the AUC is 0.50 and that indicates that the model did not classify the data set correctly."
   ]
  },
  {
   "attachments": {},
   "cell_type": "markdown",
   "metadata": {},
   "source": [
    "*Descsion tree visulization*\n",
    "\n",
    "Finally, the last step is to vizualize our tree and compare the reults. Firstly, we will visualize our decision tree using the plot_tree method from the 'matplotib' library. The visualization will be a plot tree that showcases the branching of our decision tree along with some information for each node.(note: we obtained that the tree appeard to be complecated and hard to read although we trained the model with the preprocessed dataset .It also shows how the DT reached to the results)"
   ]
  },
  {
   "cell_type": "code",
   "execution_count": 163,
   "metadata": {},
   "outputs": [
    {
     "ename": "NameError",
     "evalue": "name 'X' is not defined",
     "output_type": "error",
     "traceback": [
      "\u001b[1;31m---------------------------------------------------------------------------\u001b[0m",
      "\u001b[1;31mNameError\u001b[0m                                 Traceback (most recent call last)",
      "\u001b[1;32mc:\\AI-Project\\Supervised_Learning\\Supervised_Learning.ipynb Cell 35\u001b[0m in \u001b[0;36m7\n\u001b[0;32m      <a href='vscode-notebook-cell:/c%3A/AI-Project/Supervised_Learning/Supervised_Learning.ipynb#X45sZmlsZQ%3D%3D?line=3'>4</a>\u001b[0m \u001b[39m#We will use this method to visualize our tree.\u001b[39;00m\n\u001b[0;32m      <a href='vscode-notebook-cell:/c%3A/AI-Project/Supervised_Learning/Supervised_Learning.ipynb#X45sZmlsZQ%3D%3D?line=4'>5</a>\u001b[0m fig \u001b[39m=\u001b[39m plt\u001b[39m.\u001b[39mfigure(figsize\u001b[39m=\u001b[39m(\u001b[39m12\u001b[39m,\u001b[39m8\u001b[39m))\n\u001b[0;32m      <a href='vscode-notebook-cell:/c%3A/AI-Project/Supervised_Learning/Supervised_Learning.ipynb#X45sZmlsZQ%3D%3D?line=5'>6</a>\u001b[0m _ \u001b[39m=\u001b[39m tree\u001b[39m.\u001b[39mplot_tree(model_tree, \n\u001b[1;32m----> <a href='vscode-notebook-cell:/c%3A/AI-Project/Supervised_Learning/Supervised_Learning.ipynb#X45sZmlsZQ%3D%3D?line=6'>7</a>\u001b[0m                    feature_names\u001b[39m=\u001b[39mX\u001b[39m.\u001b[39mcolumns,  \n\u001b[0;32m      <a href='vscode-notebook-cell:/c%3A/AI-Project/Supervised_Learning/Supervised_Learning.ipynb#X45sZmlsZQ%3D%3D?line=7'>8</a>\u001b[0m                    class_names\u001b[39m=\u001b[39m{\u001b[39m0\u001b[39m:\u001b[39m'\u001b[39m\u001b[39mPotable\u001b[39m\u001b[39m'\u001b[39m, \u001b[39m1\u001b[39m:\u001b[39m'\u001b[39m\u001b[39mNot Potable\u001b[39m\u001b[39m'\u001b[39m},\n\u001b[0;32m      <a href='vscode-notebook-cell:/c%3A/AI-Project/Supervised_Learning/Supervised_Learning.ipynb#X45sZmlsZQ%3D%3D?line=8'>9</a>\u001b[0m                    filled\u001b[39m=\u001b[39m\u001b[39mTrue\u001b[39;00m,\n\u001b[0;32m     <a href='vscode-notebook-cell:/c%3A/AI-Project/Supervised_Learning/Supervised_Learning.ipynb#X45sZmlsZQ%3D%3D?line=9'>10</a>\u001b[0m                   fontsize\u001b[39m=\u001b[39m\u001b[39m8\u001b[39m)\n",
      "\u001b[1;31mNameError\u001b[0m: name 'X' is not defined"
     ]
    },
    {
     "data": {
      "text/plain": [
       "<Figure size 1200x800 with 0 Axes>"
      ]
     },
     "metadata": {},
     "output_type": "display_data"
    }
   ],
   "source": [
    "from sklearn import tree\n",
    "from matplotlib import pyplot as plt\n",
    "\n",
    "#We will use this method to visualize our tree.\n",
    "fig = plt.figure(figsize=(12,8))\n",
    "_ = tree.plot_tree(model_tree, \n",
    "                   feature_names=X.columns,  \n",
    "                   class_names={0:'Potable', 1:'Not Potable'},\n",
    "                   filled=True,\n",
    "                  fontsize=8)\n"
   ]
  },
  {
   "attachments": {},
   "cell_type": "markdown",
   "metadata": {},
   "source": [
    "**3.SVM Classifier**\n",
    "\n",
    "*Support Vector Machines* (SVMs in short) are supervised machine learning algorithms that are used for classification and regression purposes.SVMs are one of the powerful machine learning algorithms for classification, regression and outlier detection purposes. An SVM classifier builds a model that assigns new data points to one of the given categories. Thus, it can be viewed as a non-probabilistic binary linear classifier.[source]\n",
    "\n",
    "*Hyperplane*\n",
    "A hyperplane is a decision boundary which separates between given set of data points having different class labels. The SVM classifier separates data points using a hyperplane with the maximum amount of margin.\n",
    "\n",
    "*Support Vectors*\n",
    "Support vectors are the sample data points, which are closest to the hyperplane.\n",
    "\n",
    "\n",
    "*Margin*\n",
    "A margin is a separation gap between the two lines on the closest data points. It is calculated as the perpendicular distance from the line to support vectors or closest data points.\n",
    "\n",
    "\n",
    "[source]prashant111 (2020) SVM classifier tutorial, Kaggle. Available at: https://www.kaggle.com/code/prashant111/svm-classifier-tutorial (Accessed: 04 May 2023). \n",
    "\n"
   ]
  },
  {
   "attachments": {},
   "cell_type": "markdown",
   "metadata": {},
   "source": [
    "*Import libraries*\n",
    "\n",
    "We will import the needed libraries for classifing along with the Kfold libraries to preform cross folding."
   ]
  },
  {
   "cell_type": "code",
   "execution_count": 164,
   "metadata": {},
   "outputs": [],
   "source": [
    "# Improving SVM\n",
    "\n",
    "import numpy as np # linear algebra\n",
    "import pandas as pd # data processing, CSV file I/O (e.g. pd.read_csv)\n",
    "import matplotlib.pyplot as plt # for data visualization\n",
    "import seaborn as sns # for statistical data visualization\n",
    "%matplotlib inline\n",
    "\n",
    "# to create k folds of data and get cross validation score\n",
    "from sklearn.model_selection import KFold\n",
    "from sklearn.model_selection import cross_val_score\n",
    "\n",
    "\n",
    "import warnings\n",
    "\n",
    "warnings.filterwarnings('ignore')"
   ]
  },
  {
   "attachments": {},
   "cell_type": "markdown",
   "metadata": {},
   "source": [
    "Exploring the dataset before training the SVM model."
   ]
  },
  {
   "cell_type": "code",
   "execution_count": 165,
   "metadata": {},
   "outputs": [
    {
     "name": "stdout",
     "output_type": "stream",
     "text": [
      "<class 'pandas.core.frame.DataFrame'>\n",
      "RangeIndex: 2011 entries, 0 to 2010\n",
      "Data columns (total 11 columns):\n",
      " #   Column           Non-Null Count  Dtype\n",
      "---  ------           --------------  -----\n",
      " 0   Unnamed: 0       2011 non-null   int64\n",
      " 1   ph               2011 non-null   int64\n",
      " 2   Hardness         2011 non-null   int64\n",
      " 3   Solids           2011 non-null   int64\n",
      " 4   Chloramines      2011 non-null   int64\n",
      " 5   Sulfate          2011 non-null   int64\n",
      " 6   Conductivity     2011 non-null   int64\n",
      " 7   Organic_carbon   2011 non-null   int64\n",
      " 8   Trihalomethanes  2011 non-null   int64\n",
      " 9   Turbidity        2011 non-null   int64\n",
      " 10  Potability       2011 non-null   int64\n",
      "dtypes: int64(11)\n",
      "memory usage: 172.9 KB\n"
     ]
    }
   ],
   "source": [
    "#What are the value counts after the data preprocessing \n",
    "iris['Potability'].value_counts()\n",
    "#Getting the information about the dataset\n",
    "iris.info()"
   ]
  },
  {
   "attachments": {},
   "cell_type": "markdown",
   "metadata": {},
   "source": [
    "*Training the model*\n",
    "\n",
    "Here we will start training the model first by dropping the class label which in our case is Potability attribute."
   ]
  },
  {
   "cell_type": "code",
   "execution_count": 166,
   "metadata": {},
   "outputs": [],
   "source": [
    "# Dropping the class label\n",
    "X = iris.drop(['Potability'], axis=1)\n",
    "\n",
    "y = iris['Potability']"
   ]
  },
  {
   "attachments": {},
   "cell_type": "markdown",
   "metadata": {},
   "source": [
    "Here we splitted the dataset into two parts : Traing and Testing ."
   ]
  },
  {
   "cell_type": "code",
   "execution_count": 167,
   "metadata": {},
   "outputs": [],
   "source": [
    "# split X and y into training and testing sets\n",
    "\n",
    "from sklearn.model_selection import train_test_split\n",
    "\n",
    "X_train, X_test, y_train, y_test = train_test_split(X, y, test_size = 0.2, random_state = 1,stratify=y)"
   ]
  },
  {
   "attachments": {},
   "cell_type": "markdown",
   "metadata": {},
   "source": [
    "Here we defined a variable kfold to preform the cross folding and choose the k to be 10."
   ]
  },
  {
   "cell_type": "code",
   "execution_count": 168,
   "metadata": {},
   "outputs": [],
   "source": [
    "# defining kfold\n",
    "kfold = KFold(n_splits=10, random_state=1, shuffle = True)\n",
    "\n",
    "# number of splits = 10\n"
   ]
  },
  {
   "attachments": {},
   "cell_type": "markdown",
   "metadata": {},
   "source": [
    "After that we imported the SVM library and the specific type SVC library and accuracy score library. Moreover, we train the model using our dataset afte we did the preprocessing as it shown below."
   ]
  },
  {
   "cell_type": "code",
   "execution_count": null,
   "metadata": {},
   "outputs": [],
   "source": [
    "# import SVC classifier\n",
    "from sklearn import svm\n",
    "from sklearn.svm import SVC\n",
    "\n",
    "# import metrics to compute accuracy\n",
    "from sklearn.metrics import accuracy_score\n",
    "\n",
    "model_svm = svm.SVC(kernel='linear', C=1, probability=True).fit(X_train,y_train)\n",
    "\n",
    "y_pred=model_svm.predict(X_test)\n",
    "results = cross_val_score(model_svm, X_train, y_train, cv=kfold, scoring='accuracy')\n"
   ]
  },
  {
   "cell_type": "code",
   "execution_count": 1,
   "metadata": {},
   "outputs": [
    {
     "ename": "NameError",
     "evalue": "name 'y_test' is not defined",
     "output_type": "error",
     "traceback": [
      "\u001b[1;31m---------------------------------------------------------------------------\u001b[0m",
      "\u001b[1;31mNameError\u001b[0m                                 Traceback (most recent call last)",
      "\u001b[1;32mc:\\AI-Project\\Supervised_Learning\\Supervised_Learning.ipynb Cell 49\u001b[0m in \u001b[0;36m3\n\u001b[0;32m      <a href='vscode-notebook-cell:/c%3A/AI-Project/Supervised_Learning/Supervised_Learning.ipynb#Y100sZmlsZQ%3D%3D?line=0'>1</a>\u001b[0m \u001b[39mimport\u001b[39;00m \u001b[39mseaborn\u001b[39;00m \u001b[39mas\u001b[39;00m \u001b[39msns\u001b[39;00m\n\u001b[0;32m      <a href='vscode-notebook-cell:/c%3A/AI-Project/Supervised_Learning/Supervised_Learning.ipynb#Y100sZmlsZQ%3D%3D?line=1'>2</a>\u001b[0m \u001b[39mfrom\u001b[39;00m \u001b[39msklearn\u001b[39;00m \u001b[39mimport\u001b[39;00m metrics\n\u001b[1;32m----> <a href='vscode-notebook-cell:/c%3A/AI-Project/Supervised_Learning/Supervised_Learning.ipynb#Y100sZmlsZQ%3D%3D?line=2'>3</a>\u001b[0m \u001b[39mprint\u001b[39m(\u001b[39m\"\u001b[39m\u001b[39mAccuracy\u001b[39m\u001b[39m\"\u001b[39m,metrics\u001b[39m.\u001b[39maccuracy_score(y_test,y_pred)\u001b[39m*\u001b[39m\u001b[39m100\u001b[39m)\n\u001b[0;32m      <a href='vscode-notebook-cell:/c%3A/AI-Project/Supervised_Learning/Supervised_Learning.ipynb#Y100sZmlsZQ%3D%3D?line=3'>4</a>\u001b[0m \u001b[39mprint\u001b[39m(\u001b[39m\"\u001b[39m\u001b[39mprecision\u001b[39m\u001b[39m\"\u001b[39m,metrics\u001b[39m.\u001b[39mprecision_score(y_test,y_pred)\u001b[39m*\u001b[39m\u001b[39m100\u001b[39m)\n\u001b[0;32m      <a href='vscode-notebook-cell:/c%3A/AI-Project/Supervised_Learning/Supervised_Learning.ipynb#Y100sZmlsZQ%3D%3D?line=4'>5</a>\u001b[0m \u001b[39mprint\u001b[39m(\u001b[39m\"\u001b[39m\u001b[39mRecall\u001b[39m\u001b[39m\"\u001b[39m,metrics\u001b[39m.\u001b[39mrecall_score(y_test,y_pred)\u001b[39m*\u001b[39m\u001b[39m100\u001b[39m)  \n",
      "\u001b[1;31mNameError\u001b[0m: name 'y_test' is not defined"
     ]
    }
   ],
   "source": [
    "import seaborn as sns\n",
    "from sklearn import metrics\n",
    "print(\"Accuracy\",metrics.accuracy_score(y_test,y_pred)*100)\n",
    "print(\"precision\",metrics.precision_score(y_test,y_pred)*100)\n",
    "print(\"Recall\",metrics.recall_score(y_test,y_pred)*100)  \n",
    "\n",
    "accuracyScore3= metrics.accuracy_score(y_test,y_pred)\n",
    "precisionScore3=metrics.precision_score(y_test,y_pred)\n",
    "recallscore3=metrics.recall_score(y_test,y_pred)"
   ]
  },
  {
   "attachments": {},
   "cell_type": "markdown",
   "metadata": {},
   "source": [
    "Here we calculated the Accuracy equals to 59.55 and Precision equals to 0 and Recall equals to 0."
   ]
  },
  {
   "attachments": {},
   "cell_type": "markdown",
   "metadata": {},
   "source": [
    "Here we preformed the 10 fold cross-validation and printed the results we hoped it will improve the resultes but as it shows the best accuracy can gets is 0.627 and 62.7% it has improved yet it is still low."
   ]
  },
  {
   "cell_type": "code",
   "execution_count": null,
   "metadata": {},
   "outputs": [],
   "source": [
    "#do a 10 fold cross-validation \n",
    "results_svm = cross_val_score(model_svm, X_train,y_train, cv=kfold,scoring='accuracy')\n",
    "print(\"\\n10-fold cross-validation:\")\n",
    "print(results_svm)"
   ]
  },
  {
   "attachments": {},
   "cell_type": "markdown",
   "metadata": {},
   "source": [
    "Here We implement the confusion matrix and obtaind the results which are 240 true negative and 163 are false neagtive and the true positive and false positive are both 0."
   ]
  },
  {
   "cell_type": "code",
   "execution_count": null,
   "metadata": {},
   "outputs": [],
   "source": [
    "# visualize confusion matrix with seaborn heatmap\n",
    "\n",
    "import numpy as np\n",
    "import matplotlib.pyplot as plt\n",
    "import seaborn as sns\n",
    "from sklearn import metrics\n",
    "\n",
    "CNF_Matrix=metrics.confusion_matrix(y_test,y_pred)\n",
    "\n",
    "class_name=[0,1]\n",
    "fig, ax = plt.subplots()\n",
    "tick_mark=np.arange(len(class_name))\n",
    "plt.xticks(tick_mark,class_name)\n",
    "plt.yticks(tick_mark,class_name)\n",
    "\n",
    "sns.heatmap(pd.DataFrame(CNF_Matrix),annot=True,cmap=\"OrRd\",fmt='g')\n",
    "ax.xaxis.set_label_position(\"top\")\n",
    "plt.title('confusion matrix',y=1.1)\n",
    "plt.ylabel('actual label')\n",
    "plt.xlabel('predicted label')"
   ]
  },
  {
   "attachments": {},
   "cell_type": "markdown",
   "metadata": {},
   "source": [
    "Here , we obtain the confusion matrix we obtain the results which are TN=240 , TP=0 , FN=163 , FP = 0  "
   ]
  },
  {
   "attachments": {},
   "cell_type": "markdown",
   "metadata": {},
   "source": [
    "*Classification Report*\n",
    "\n",
    "We will then use the classification_report() method to generate a report for both the Potable and Not Potable values. This report shows us the precision and recall score again for the Potability values, and it also shows the scores in terms of the Not Potable values. This report also shows us the f1-score, which combines the precision and recall scores to measure the model's accuracy, and the support. (Note: We generated this report just for more information about our model; we will not use these values when visualizing or comparing).\n",
    "\n",
    "Here we obtain the report regarding the model where it has the precision that equals to 0.60 for the negative and 0 for the positive .Also , the recall is 1 for negative and 0 for positive.Along with the f1-score that is 0.75 for negative and 0 for positive .Lastly the support is 240 for negative and 163 for positive.Also , it shows the averages"
   ]
  },
  {
   "cell_type": "code",
   "execution_count": null,
   "metadata": {},
   "outputs": [],
   "source": [
    "from sklearn.metrics import classification_report\n",
    "\n",
    "print(classification_report(y_test, y_pred))"
   ]
  },
  {
   "cell_type": "code",
   "execution_count": null,
   "metadata": {},
   "outputs": [],
   "source": [
    "# plot ROC Curve\n",
    "\n",
    "from sklearn.metrics import roc_curve\n",
    "\n",
    "fpr, tpr, thresholds = roc_curve(y_test, y_pred)\n",
    "\n",
    "plt.figure(figsize=(6,4))\n",
    "\n",
    "plt.plot(fpr, tpr, linewidth=2)\n",
    "\n",
    "plt.plot([0,1], [0,1], 'k--' )\n",
    "\n",
    "plt.rcParams['font.size'] = 12\n",
    "\n",
    "plt.title('ROC curve for Predicting a Pulsar Star classifier')\n",
    "\n",
    "plt.xlabel('False Positive Rate (1 - Specificity)')\n",
    "\n",
    "plt.ylabel('True Positive Rate (Sensitivity)')\n",
    "\n",
    "plt.show()"
   ]
  },
  {
   "attachments": {},
   "cell_type": "markdown",
   "metadata": {},
   "source": [
    "In the ROC Curve below the line is stright and parallel to the curve therefore it shows that the model is not predecting and not knowing the dataset right .And this result occurs from the values that are in  the dataset where they are unclear!"
   ]
  },
  {
   "attachments": {},
   "cell_type": "markdown",
   "metadata": {},
   "source": [
    "# comparison\n",
    "--------------------------------------------------------------------------------------------------------------------------------"
   ]
  },
  {
   "attachments": {},
   "cell_type": "markdown",
   "metadata": {},
   "source": [
    "As we can see in the three supervised learning methods, namely:\n",
    "1. Logistic Regression \n",
    "2. Decision Tree \n",
    "3. SVM Classifier\n",
    "\n",
    "\n",
    "The accuracy values are close and tend to be low in all three methods. After the research, it was discovered that the problem is related to our data set.\n",
    "\n",
    "As mentioned above, we see that the accuracy value in \n",
    "\n",
    "Logistic Regression is 60.59, \n",
    "\n",
    "Decision Tree is 56.45, \n",
    "\n",
    "and the SVM is 59.55.\n",
    "\n",
    "--------------------------------------------------------------\n",
    "\n",
    " From the list of accuracy we obtained, we conclude that Logistic Regression is the best in accuracy because it has the largest value.\n",
    "\n",
    "\n",
    "As for the Recall of \n",
    "\n",
    "Logistic Regression it is 0.0,\n",
    "\n",
    " Decision Tree is 46.41,\n",
    "\n",
    "  and SVM is 0.0\n",
    "\n",
    "--------------------------------------------------------------\n",
    "\n",
    "Thus, we conclude that the Decision Tree  has  better recall as it has the highest value\n",
    "\n",
    "\n",
    "As for the Precision of \n",
    "\n",
    "Logistic Regression it is 0.0, \n",
    "\n",
    "Decision Tree is 44.71, \n",
    "\n",
    "and SVM is 0.0\n",
    "\n",
    "Therefore, we figure that the Decision Tree has better Precision as it holds the highest value\n"
   ]
  },
  {
   "attachments": {},
   "cell_type": "markdown",
   "metadata": {},
   "source": [
    "**Visualization**"
   ]
  },
  {
   "attachments": {},
   "cell_type": "markdown",
   "metadata": {},
   "source": [
    "*Model comparision* \n",
    "\n",
    "--------------------------------------------------------------\n",
    "\n",
    "In visualization below we can obtain that the three models gives a close results regarding the Acccuracy and Precision and Recall Score .From that we obtain that the dataset was unclaer to the models to train from and enven we have used a cross folding methods and we did the preprossing for our data set it is still gives a bad results.But , Among the models for our data set the Decision Tree model gave us the best results among the three models. "
   ]
  },
  {
   "cell_type": "code",
   "execution_count": null,
   "metadata": {},
   "outputs": [],
   "source": [
    "# data from https://allisonhorst.github.io/palmerpenguins/\n",
    "\n",
    "compare = (\"Accuracy\", \"Precision\", \"Recall Score\")\n",
    "models = {\n",
    "    'Decision Tree': (accuracyScore2, precisionScore2, recallscore2),\n",
    "    'Logistic Regression': (accuracyScore1, precisionScore1, recallscore1),\n",
    "    'SVM ':(accuracyScore3, precisionScore3, recallscore3)\n",
    "}\n",
    "\n",
    "x = np.arange(len(compare))  # the label locations\n",
    "width = 0.25  # the width of the bars\n",
    "multiplier = 0\n",
    "\n",
    "fig, ax = plt.subplots(layout='constrained')\n",
    "\n",
    "for attribute, measurement in models.items():\n",
    "    offset = width * multiplier\n",
    "    rects = ax.bar(x + offset, measurement, width, label=attribute)\n",
    "    ax.bar_label(rects, padding=3)\n",
    "    multiplier += 1\n",
    "\n",
    "# Add some text for labels, title and custom x-axis tick labels, etc.\n",
    "ax.set_ylabel('Percentage')\n",
    "ax.set_title('Models comparision')\n",
    "ax.set_xticks(x + width, compare)\n",
    "ax.legend(loc='upper left', ncol=3)\n",
    "ax.set_ylim(0, 2)\n",
    "\n",
    "plt.show()"
   ]
  }
 ],
 "metadata": {
  "kernelspec": {
   "display_name": "Python 3",
   "language": "python",
   "name": "python3"
  },
  "language_info": {
   "codemirror_mode": {
    "name": "ipython",
    "version": 3
   },
   "file_extension": ".py",
   "mimetype": "text/x-python",
   "name": "python",
   "nbconvert_exporter": "python",
   "pygments_lexer": "ipython3",
   "version": "3.9.2"
  },
  "orig_nbformat": 4
 },
 "nbformat": 4,
 "nbformat_minor": 2
}
